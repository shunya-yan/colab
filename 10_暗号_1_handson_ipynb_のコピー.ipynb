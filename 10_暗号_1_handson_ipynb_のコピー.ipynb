{
  "nbformat": 4,
  "nbformat_minor": 0,
  "metadata": {
    "colab": {
      "provenance": [],
      "authorship_tag": "ABX9TyPR3ZGnKLQMzJH610zVaAPR",
      "include_colab_link": true
    },
    "kernelspec": {
      "name": "python3",
      "display_name": "Python 3"
    },
    "language_info": {
      "name": "python"
    }
  },
  "cells": [
    {
      "cell_type": "markdown",
      "metadata": {
        "id": "view-in-github",
        "colab_type": "text"
      },
      "source": [
        "<a href=\"https://colab.research.google.com/github/shunya-yan/colab/blob/main/10_%E6%9A%97%E5%8F%B7_1_handson_ipynb_%E3%81%AE%E3%82%B3%E3%83%94%E3%83%BC.ipynb\" target=\"_parent\"><img src=\"https://colab.research.google.com/assets/colab-badge.svg\" alt=\"Open In Colab\"/></a>"
      ]
    },
    {
      "cell_type": "code",
      "execution_count": null,
      "metadata": {
        "colab": {
          "base_uri": "https://localhost:8080/"
        },
        "id": "pMAqkkJEJ1_1",
        "outputId": "ae1a6476-bdbd-40c4-ced6-f4f49b3a6c14"
      },
      "outputs": [
        {
          "output_type": "stream",
          "name": "stdout",
          "text": [
            "Hello, World\n"
          ]
        }
      ],
      "source": [
        "print('Hello, World')"
      ]
    },
    {
      "cell_type": "code",
      "source": [
        "# ハッシュ化するためのライブラリ\n",
        "import hashlib\n",
        "\n",
        "# 平文\n",
        "message = '1234'\n",
        "\n",
        "# MD5にハッシュ化\n",
        "hash_md5 = hashlib.md5(message.encode())\n",
        "print(f'ハッシュ値:{hash_md5.hexdigest()}')"
      ],
      "metadata": {
        "colab": {
          "base_uri": "https://localhost:8080/"
        },
        "id": "sb7c_zfxKPZY",
        "outputId": "e6f65155-462b-48a8-8a40-e329eb931e5c"
      },
      "execution_count": null,
      "outputs": [
        {
          "output_type": "stream",
          "name": "stdout",
          "text": [
            "ハッシュ値:81dc9bdb52d04dc20036dbd8313ed055\n"
          ]
        }
      ]
    },
    {
      "cell_type": "code",
      "source": [
        "# 平文\n",
        "message = '1234'\n",
        "\n",
        "with open(\"1234.txt\", \"w\") as file: # 1234.txtを作成する\n",
        "  hash_md5 = hashlib.md5(message.encode())\n",
        "  file.write(f\"{message}のハッシュ値: {hash_md5.hexdigest()}\\n\") # ファイルに書き込む\n",
        "print(\"ファイル出力が終わりました\")"
      ],
      "metadata": {
        "colab": {
          "base_uri": "https://localhost:8080/"
        },
        "id": "Hdwh2xZQK5L_",
        "outputId": "2348cc18-43eb-42a9-f3b8-f7fb0cdbf8ea"
      },
      "execution_count": null,
      "outputs": [
        {
          "output_type": "stream",
          "name": "stdout",
          "text": [
            "ファイル出力が終わりました\n"
          ]
        }
      ]
    },
    {
      "cell_type": "code",
      "source": [
        "# ループ処理\n",
        "for i in range(0, 10):\n",
        "  print(str(i))"
      ],
      "metadata": {
        "colab": {
          "base_uri": "https://localhost:8080/"
        },
        "id": "iH8fsemyMIna",
        "outputId": "d1cc5f1f-4c81-4978-fdbd-453dfebb2b98"
      },
      "execution_count": null,
      "outputs": [
        {
          "output_type": "stream",
          "name": "stdout",
          "text": [
            "0\n",
            "1\n",
            "2\n",
            "3\n",
            "4\n",
            "5\n",
            "6\n",
            "7\n",
            "8\n",
            "9\n"
          ]
        }
      ]
    },
    {
      "cell_type": "code",
      "source": [
        "import hashlib\n",
        "\n",
        "# ファイルにハッシュ値を保存\n",
        "with open(\"md5.txt\", \"w\") as file:\n",
        "  for i in range(1, 10000):\n",
        "    value = str(i)\n",
        "    hash_md5 = hashlib.md5(value.encode())\n",
        "    file.write(f\"{value}: {hash_md5.hexdigest()}\\n\")\n",
        "\n",
        "print(\"ファイル出力が終わりました\")"
      ],
      "metadata": {
        "id": "SaYGvMGyMpKF",
        "colab": {
          "base_uri": "https://localhost:8080/"
        },
        "outputId": "71105cf4-ac54-444c-8909-d145ef9fa339"
      },
      "execution_count": null,
      "outputs": [
        {
          "output_type": "stream",
          "name": "stdout",
          "text": [
            "ファイル出力が終わりました\n"
          ]
        }
      ]
    },
    {
      "cell_type": "code",
      "source": [
        "!grep 'a35fe7f7fe8217b4369a0af4244d1fca' md5.txt"
      ],
      "metadata": {
        "colab": {
          "base_uri": "https://localhost:8080/"
        },
        "id": "Ru_YiPrCNnYx",
        "outputId": "e8aa097c-2656-4ba8-cf9f-dda489231b73"
      },
      "execution_count": null,
      "outputs": [
        {
          "output_type": "stream",
          "name": "stdout",
          "text": [
            "5000: a35fe7f7fe8217b4369a0af4244d1fca\n"
          ]
        }
      ]
    },
    {
      "cell_type": "code",
      "source": [
        "!grep '912e79cd13c64069d91da65d62fbb78c' md5.txt"
      ],
      "metadata": {
        "colab": {
          "base_uri": "https://localhost:8080/"
        },
        "id": "NJehOebhOgt2",
        "outputId": "2c63752c-bc9e-45d1-e3f8-3a533d66985e"
      },
      "execution_count": null,
      "outputs": [
        {
          "output_type": "stream",
          "name": "stdout",
          "text": [
            "9876: 912e79cd13c64069d91da65d62fbb78c\n"
          ]
        }
      ]
    },
    {
      "cell_type": "code",
      "source": [
        "!grep '9876' md5.txt"
      ],
      "metadata": {
        "colab": {
          "base_uri": "https://localhost:8080/"
        },
        "id": "L1BMJZH7PCgJ",
        "outputId": "5bda581a-6147-43ba-be21-307a79ca4348"
      },
      "execution_count": null,
      "outputs": [
        {
          "output_type": "stream",
          "name": "stdout",
          "text": [
            "1087: a26398dca6f47b49876cbaffbc9954f9\n",
            "1633: 21fe5b8ba755eeaece7a450849876228\n",
            "4723: 53420bd6e6798761679772a7dd012674\n",
            "4850: 549406198764950208345d143aa67c7d\n",
            "5481: 24f2f931f12a4d9149876a5bef93e96a\n",
            "9876: 912e79cd13c64069d91da65d62fbb78c\n"
          ]
        }
      ]
    },
    {
      "cell_type": "code",
      "source": [
        "print(1)\n",
        "print(1 + 1)\n",
        "print(2 * 2)\n",
        "print(2 * 2 * 2 * 2)\n",
        "print(2 ** 4)\n",
        "print(11 % 3)\n",
        "print(15 % 3)"
      ],
      "metadata": {
        "colab": {
          "base_uri": "https://localhost:8080/"
        },
        "id": "cUEj8EFWPhtZ",
        "outputId": "f9272ca7-618a-47b3-eb4e-110d163f0893"
      },
      "execution_count": null,
      "outputs": [
        {
          "output_type": "stream",
          "name": "stdout",
          "text": [
            "1\n",
            "2\n",
            "4\n",
            "16\n",
            "16\n",
            "2\n",
            "0\n"
          ]
        }
      ]
    },
    {
      "cell_type": "code",
      "source": [
        "print(2 ** 16)\n",
        "print(10 % 7)\n",
        "print((10 ** 3) % 7)"
      ],
      "metadata": {
        "colab": {
          "base_uri": "https://localhost:8080/"
        },
        "id": "idRAUO4xdcKx",
        "outputId": "a7a4bb92-a429-4577-eef3-4a9345bff020"
      },
      "execution_count": null,
      "outputs": [
        {
          "output_type": "stream",
          "name": "stdout",
          "text": [
            "65536\n",
            "3\n",
            "6\n"
          ]
        }
      ]
    },
    {
      "cell_type": "code",
      "source": [
        "print((7 ** 13) % 11)"
      ],
      "metadata": {
        "colab": {
          "base_uri": "https://localhost:8080/"
        },
        "id": "ucNRXCL2doXP",
        "outputId": "b311ecb4-ea2e-4773-de77-35e600020e7f"
      },
      "execution_count": null,
      "outputs": [
        {
          "output_type": "stream",
          "name": "stdout",
          "text": [
            "2\n"
          ]
        }
      ]
    },
    {
      "cell_type": "code",
      "source": [
        "for i in range(1, 13):\n",
        "  print(i,'のとき',7 ** i % 11)"
      ],
      "metadata": {
        "colab": {
          "base_uri": "https://localhost:8080/"
        },
        "id": "8J8SkXEkf9NT",
        "outputId": "14ca6ae3-1d70-42f8-9a06-e212e08b559f"
      },
      "execution_count": null,
      "outputs": [
        {
          "output_type": "stream",
          "name": "stdout",
          "text": [
            "1 のとき 7\n",
            "2 のとき 5\n",
            "3 のとき 2\n",
            "4 のとき 3\n",
            "5 のとき 10\n",
            "6 のとき 4\n",
            "7 のとき 6\n",
            "8 のとき 9\n",
            "9 のとき 8\n",
            "10 のとき 1\n",
            "11 のとき 7\n",
            "12 のとき 5\n"
          ]
        }
      ]
    },
    {
      "cell_type": "code",
      "source": [
        "def a(p, g):\n",
        "  for i in range(1, 13):\n",
        "    print(i,'のとき',g ** i % p)\n",
        "\n",
        "print(a(11, 7))"
      ],
      "metadata": {
        "colab": {
          "base_uri": "https://localhost:8080/"
        },
        "id": "wckQw6_sgjex",
        "outputId": "435c979a-3a9c-493c-cbf2-423ed9f48898"
      },
      "execution_count": null,
      "outputs": [
        {
          "output_type": "stream",
          "name": "stdout",
          "text": [
            "1 のとき 7\n",
            "2 のとき 5\n",
            "3 のとき 2\n",
            "4 のとき 3\n",
            "5 のとき 10\n",
            "6 のとき 4\n",
            "7 のとき 6\n",
            "8 のとき 9\n",
            "9 のとき 8\n",
            "10 のとき 1\n",
            "11 のとき 7\n",
            "12 のとき 5\n",
            "None\n"
          ]
        }
      ]
    },
    {
      "cell_type": "code",
      "source": [
        "def a(p, g):\n",
        "  result = []\n",
        "  for i in range(1, 10000):\n",
        "    if g ** i % p == 581:\n",
        "      result.append(i)\n",
        "  return result\n",
        "print(a(1013, 7))"
      ],
      "metadata": {
        "colab": {
          "base_uri": "https://localhost:8080/"
        },
        "id": "gcbIUeJdoPbC",
        "outputId": "d80485d6-d1dd-4bb1-829b-106414c74167"
      },
      "execution_count": null,
      "outputs": [
        {
          "output_type": "stream",
          "name": "stdout",
          "text": [
            "[101, 1113, 2125, 3137, 4149, 5161, 6173, 7185, 8197, 9209]\n"
          ]
        }
      ]
    },
    {
      "cell_type": "code",
      "source": [
        "# 公開情報 g = 7, p = 41\n",
        "# 松田さん：gをa乗してpで割った余りであるAをb乗してpで割った余り\n",
        "# 藤本さん：gをb乗してpで割った余りであるBをa乗してpで割った余り\n",
        "# Q. a=7, b=9の時、共有鍵の値はいくらになるか\n",
        "print('松田さんの公開情報：',7 ** 7 % 41)\n",
        "print('藤本さんの公開情報：',7 ** 9 % 41)\n",
        "print('共有鍵：',(7 ** 7 % 41) ** 9 % 41)\n",
        "print('共有鍵：',(7 ** 9 % 41) ** 7 % 41)"
      ],
      "metadata": {
        "colab": {
          "base_uri": "https://localhost:8080/"
        },
        "id": "-SnfMpomhgIR",
        "outputId": "cb3c6df7-ee22-492c-f944-512dd93bd535"
      },
      "execution_count": null,
      "outputs": [
        {
          "output_type": "stream",
          "name": "stdout",
          "text": [
            "松田さんの公開情報： 17\n",
            "藤本さんの公開情報： 13\n",
            "共有鍵： 26\n",
            "共有鍵： 26\n"
          ]
        }
      ]
    },
    {
      "cell_type": "code",
      "source": [
        "def a(p, g):\n",
        "  for i in range(1, 102):\n",
        "    print(i,'のとき',g ** i % p)\n",
        "\n",
        "print(a(1013, 7))"
      ],
      "metadata": {
        "colab": {
          "base_uri": "https://localhost:8080/"
        },
        "id": "z9eHUQZIi7gl",
        "outputId": "4742367e-28c3-4f3b-b8fa-94ea7dfcaef6"
      },
      "execution_count": null,
      "outputs": [
        {
          "output_type": "stream",
          "name": "stdout",
          "text": [
            "1 のとき 7\n",
            "2 のとき 49\n",
            "3 のとき 343\n",
            "4 のとき 375\n",
            "5 のとき 599\n",
            "6 のとき 141\n",
            "7 のとき 987\n",
            "8 のとき 831\n",
            "9 のとき 752\n",
            "10 のとき 199\n",
            "11 のとき 380\n",
            "12 のとき 634\n",
            "13 のとき 386\n",
            "14 のとき 676\n",
            "15 のとき 680\n",
            "16 のとき 708\n",
            "17 のとき 904\n",
            "18 のとき 250\n",
            "19 のとき 737\n",
            "20 のとき 94\n",
            "21 のとき 658\n",
            "22 のとき 554\n",
            "23 のとき 839\n",
            "24 のとき 808\n",
            "25 のとき 591\n",
            "26 のとき 85\n",
            "27 のとき 595\n",
            "28 のとき 113\n",
            "29 のとき 791\n",
            "30 のとき 472\n",
            "31 のとき 265\n",
            "32 のとき 842\n",
            "33 のとき 829\n",
            "34 のとき 738\n",
            "35 のとき 101\n",
            "36 のとき 707\n",
            "37 のとき 897\n",
            "38 のとき 201\n",
            "39 のとき 394\n",
            "40 のとき 732\n",
            "41 のとき 59\n",
            "42 のとき 413\n",
            "43 のとき 865\n",
            "44 のとき 990\n",
            "45 のとき 852\n",
            "46 のとき 899\n",
            "47 のとき 215\n",
            "48 のとき 492\n",
            "49 のとき 405\n",
            "50 のとき 809\n",
            "51 のとき 598\n",
            "52 のとき 134\n",
            "53 のとき 938\n",
            "54 のとき 488\n",
            "55 のとき 377\n",
            "56 のとき 613\n",
            "57 のとき 239\n",
            "58 のとき 660\n",
            "59 のとき 568\n",
            "60 のとき 937\n",
            "61 のとき 481\n",
            "62 のとき 328\n",
            "63 のとき 270\n",
            "64 のとき 877\n",
            "65 のとき 61\n",
            "66 のとき 427\n",
            "67 のとき 963\n",
            "68 のとき 663\n",
            "69 のとき 589\n",
            "70 のとき 71\n",
            "71 のとき 497\n",
            "72 のとき 440\n",
            "73 のとき 41\n",
            "74 のとき 287\n",
            "75 のとき 996\n",
            "76 のとき 894\n",
            "77 のとき 180\n",
            "78 のとき 247\n",
            "79 のとき 716\n",
            "80 のとき 960\n",
            "81 のとき 642\n",
            "82 のとき 442\n",
            "83 のとき 55\n",
            "84 のとき 385\n",
            "85 のとき 669\n",
            "86 のとき 631\n",
            "87 のとき 365\n",
            "88 のとき 529\n",
            "89 のとき 664\n",
            "90 のとき 596\n",
            "91 のとき 120\n",
            "92 のとき 840\n",
            "93 のとき 815\n",
            "94 のとき 640\n",
            "95 のとき 428\n",
            "96 のとき 970\n",
            "97 のとき 712\n",
            "98 のとき 932\n",
            "99 のとき 446\n",
            "100 のとき 83\n",
            "101 のとき 581\n",
            "None\n"
          ]
        }
      ]
    },
    {
      "cell_type": "code",
      "source": [],
      "metadata": {
        "id": "4CajTlX3nhJz"
      },
      "execution_count": null,
      "outputs": []
    }
  ]
}