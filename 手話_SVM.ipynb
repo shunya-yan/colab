{
  "cells": [
    {
      "cell_type": "markdown",
      "metadata": {
        "colab_type": "text",
        "id": "view-in-github"
      },
      "source": [
        "<a href=\"https://colab.research.google.com/github/shunya-yan/colab/blob/main/%E6%89%8B%E8%A9%B1_SVM.ipynb\" target=\"_parent\"><img src=\"https://colab.research.google.com/assets/colab-badge.svg\" alt=\"Open In Colab\"/></a>"
      ]
    },
    {
      "cell_type": "markdown",
      "metadata": {
        "id": "GhNaNwdWTrwp"
      },
      "source": [
        "## 1. ライブラリの準備・日本語フォント対応など"
      ]
    },
    {
      "cell_type": "code",
      "execution_count": null,
      "metadata": {
        "id": "R-uHnDDlT1UN"
      },
      "outputs": [],
      "source": [
        "!sudo apt-get install fonts-ipaexfont\n",
        "!sudo pip install japanize-matplotlib\n",
        "!sudo rm -rf ~/.cache/matplotlib\n",
        "\n",
        "import matplotlib\n",
        "import matplotlib.pyplot as plt\n",
        "import japanize_matplotlib\n",
        "\n",
        "font_path = '/usr/share/fonts/opentype/ipaexfont-gothic/ipaexg.ttf'\n",
        "ipaex_gothic = matplotlib.font_manager.FontProperties(fname=font_path)\n",
        "\n",
        "# グラフのフォントに適用\n",
        "plt.rcParams['font.family'] = ipaex_gothic.get_name()"
      ]
    },
    {
      "cell_type": "markdown",
      "metadata": {
        "id": "JjL1JvQXT-lF"
      },
      "source": [
        "## 2. データの表示"
      ]
    },
    {
      "cell_type": "code",
      "execution_count": null,
      "metadata": {
        "id": "tlAK3pF9KnJr"
      },
      "outputs": [],
      "source": [
        "import numpy as np\n",
        "import matplotlib.pyplot as plt\n",
        "\n",
        "label = [\"楽しい\", \"悲しい\"]\n",
        "\n",
        "cluster_0 = np.random.normal(loc=[0.3, 0.3], scale=0.03, size=(48, 2))\n",
        "cluster_1 = np.random.normal(loc=[0.7, 0.7], scale=0.03, size=(48, 2))\n",
        "\n",
        "\n",
        "sv_0 = np.array([[0.39, 0.39]])\n",
        "sv_1 = np.array([[0.61, 0.61]])\n",
        "\n",
        "X = np.vstack([cluster_0, sv_0, cluster_1, sv_1])\n",
        "y = np.array([0]*49 + [1]*49)\n",
        "\n",
        "# プロット\n",
        "plt.figure(figsize=(6, 6))\n",
        "plt.scatter(X[y == 0][:, 0], X[y == 0][:, 1], color='red', label='楽しい')\n",
        "plt.scatter(X[y == 1][:, 0], X[y == 1][:, 1], color='blue', label='悲しい')\n",
        "plt.xlabel(\"左手のy座標\")\n",
        "plt.ylabel(\"右手のy座標\")\n",
        "plt.xlim(0, 1)\n",
        "plt.ylim(0, 1)\n",
        "plt.legend()\n",
        "plt.grid(False)\n",
        "plt.tight_layout()\n",
        "plt.show()"
      ]
    },
    {
      "cell_type": "markdown",
      "metadata": {
        "id": "e8DNDcpHUNik"
      },
      "source": [
        "## 3. 単純なSVM（分離境界とサポートベクトル）"
      ]
    },
    {
      "cell_type": "code",
      "execution_count": null,
      "metadata": {
        "id": "GgwvTC8Qy-ND"
      },
      "outputs": [],
      "source": [
        "# 再実行：セッションリセット後の再定義と描画\n",
        "\n",
        "import numpy as np\n",
        "import matplotlib.pyplot as plt\n",
        "from sklearn.svm import SVC\n",
        "\n",
        "# SVMの学習（ハードマージン寄り）\n",
        "model = SVC(kernel='linear', C=1e6)\n",
        "model.fit(X, y)\n",
        "\n",
        "# パラメータ取得\n",
        "w = model.coef_[0]\n",
        "intercept = model.intercept_[0]\n",
        "support_vectors = model.support_vectors_\n",
        "\n",
        "# 分離境界用のx範囲（データ範囲に合わせる）\n",
        "x_min, x_max = X[:, 0].min(), X[:, 0].max()\n",
        "xx = np.linspace(x_min, x_max, 100)\n",
        "slope = -w[0] / w[1]\n",
        "yy = slope * xx - intercept / w[1]\n",
        "\n",
        "# 描画\n",
        "plt.figure(figsize=(6, 6))\n",
        "plt.scatter(X[y == 0][:, 0], X[y == 0][:, 1], color='red', label='楽しい')\n",
        "plt.scatter(X[y == 1][:, 0], X[y == 1][:, 1], color='blue', label='悲しい')\n",
        "plt.plot(xx, yy, color='green', linestyle='--', label='分離境界')\n",
        "plt.scatter(support_vectors[:, 0], support_vectors[:, 1],\n",
        "            facecolors='none', edgecolors='purple', label='サポートベクター', s=120, linewidths=2)\n",
        "plt.xlabel(\"左手のy座標\")\n",
        "plt.ylabel(\"右手のy座標\")\n",
        "plt.xlim(0, 1)\n",
        "plt.ylim(0, 1)\n",
        "plt.legend()\n",
        "plt.grid(False)\n",
        "plt.tight_layout()\n",
        "plt.show()\n"
      ]
    },
    {
      "cell_type": "markdown",
      "metadata": {
        "id": "LC7HxZ9I4vyc"
      },
      "source": [
        "## 4. 単純なSVMによる分類予測"
      ]
    },
    {
      "cell_type": "code",
      "execution_count": null,
      "metadata": {
        "id": "mX73ejVS4u-d"
      },
      "outputs": [],
      "source": [
        "'''\n",
        "例えば（特徴量1, 特徴量2）=（1, 2）の点に位置する新たなデータについて予測する場合は\n",
        "point = np.array([[1, 2]])\n",
        "と記入する\n",
        "\n",
        "'''\n",
        "point = np.array([[??, ??]])\n",
        "\n",
        "prediction = model.predict(point)\n",
        "print(label[prediction[0]])\n",
        "# 分離境界再計算（既に定義済みでも再確認）\n",
        "xx = np.linspace(X[:, 0].min(), X[:, 0].max(), 100)\n",
        "yy = slope * xx - intercept / w[1]\n",
        "\n",
        "# プロット\n",
        "plt.figure(figsize=(6, 6))\n",
        "plt.scatter(X[y == 0][:, 0], X[y == 0][:, 1], color='red', label='楽しい')\n",
        "plt.scatter(X[y == 1][:, 0], X[y == 1][:, 1], color='blue', label='悲しい')\n",
        "plt.plot(xx, yy, color='green', linestyle='--', label='分離境界')\n",
        "plt.scatter(support_vectors[:, 0], support_vectors[:, 1],\n",
        "            facecolors='none', edgecolors='purple', label='サポートベクター', s=120, linewidths=2)\n",
        "plt.scatter(point[:, 0], point[:, 1], color='gold', marker='*', s=250, label='テストデータ')\n",
        "plt.xlabel(\"左手のy座標\")\n",
        "plt.ylabel(\"右手のy座標\")\n",
        "plt.xlim(0, 1)\n",
        "plt.ylim(0, 1)\n",
        "plt.legend()\n",
        "plt.grid(False)\n",
        "plt.tight_layout()\n",
        "plt.show()\n"
      ]
    },
    {
      "cell_type": "markdown",
      "metadata": {
        "id": "VH9WesTlYhBb"
      },
      "source": [
        "## 5. 複数（3クラスタ）で単純なSVM（データ表示）"
      ]
    },
    {
      "cell_type": "code",
      "execution_count": null,
      "metadata": {
        "id": "uPSEEMcdYLFI"
      },
      "outputs": [],
      "source": [
        "# ラベル名\n",
        "label = [\"楽しい\", \"悲しい\", \"驚き\"]\n",
        "\n",
        "# 各クラスタのデータ作成（赤=左下, 青=右上, 緑=右下）\n",
        "cluster_0 = np.random.normal(loc=[0.3, 0.3], scale=0.03, size=(48, 2))  # 楽しい\n",
        "cluster_1 = np.random.normal(loc=[0.7, 0.7], scale=0.03, size=(48, 2))  # 悲しい\n",
        "cluster_2 = np.random.normal(loc=[0.7, 0.3], scale=0.03, size=(48, 2))  # 驚き\n",
        "\n",
        "# 各クラスタの代表点\n",
        "sv_0 = np.array([[0.39, 0.39]])\n",
        "sv_1 = np.array([[0.61, 0.61]])\n",
        "sv_2 = np.array([[0.61, 0.39]])\n",
        "\n",
        "# データ結合\n",
        "X = np.vstack([cluster_0, sv_0, cluster_1, sv_1, cluster_2, sv_2])\n",
        "y = np.array([0]*49 + [1]*49 + [2]*49)\n",
        "\n",
        "# プロット\n",
        "plt.figure(figsize=(6, 6))\n",
        "plt.scatter(X[y == 0][:, 0], X[y == 0][:, 1], color='red', label='楽しい')\n",
        "plt.scatter(X[y == 1][:, 0], X[y == 1][:, 1], color='blue', label='悲しい')\n",
        "plt.scatter(X[y == 2][:, 0], X[y == 2][:, 1], color='green', label='驚き')\n",
        "plt.xlabel(\"左手のy座標\")\n",
        "plt.ylabel(\"右手のy座標\")\n",
        "plt.xlim(0, 1)\n",
        "plt.ylim(0, 1)\n",
        "plt.legend()\n",
        "plt.grid(False)\n",
        "plt.tight_layout()\n",
        "plt.show()"
      ]
    },
    {
      "cell_type": "markdown",
      "metadata": {
        "id": "LQKHZdA4YqNL"
      },
      "source": [
        "## 6. 複数（3クラスタ）で単純なSVM（分離境界）"
      ]
    },
    {
      "cell_type": "code",
      "execution_count": null,
      "metadata": {
        "id": "utoh7EdvXCCM"
      },
      "outputs": [],
      "source": [
        "model = SVC(kernel='linear', decision_function_shape='ovr')  # One-vs-Rest を指定\n",
        "model.fit(X, y)\n",
        "\n",
        "# メッシュグリッドを作成して決定境界を描画\n",
        "xx, yy = np.meshgrid(np.linspace(0, 1, 500),\n",
        "                     np.linspace(0, 1, 500))\n",
        "Z = model.predict(np.c_[xx.ravel(), yy.ravel()]).reshape(xx.shape)\n",
        "\n",
        "# 背景の色を薄くしてプロット\n",
        "plt.figure(figsize=(8, 6))\n",
        "plt.contourf(xx, yy, Z, alpha=0.1, cmap='coolwarm')  # 背景の決定領域をより薄く\n",
        "plt.scatter(X[y == 0][:, 0], X[y == 0][:, 1], color='red', alpha=0.8, label='楽しい')\n",
        "plt.scatter(X[y == 1][:, 0], X[y == 1][:, 1], color='blue', alpha=0.8, label='悲しい')\n",
        "plt.scatter(X[y == 2][:, 0], X[y == 2][:, 1], color='green', alpha=0.8, label='驚き')\n",
        "plt.xlabel(\"左手のy座標\")\n",
        "plt.ylabel(\"右手のy座標\")\n",
        "plt.xlim(0, 1)\n",
        "plt.ylim(0, 1)\n",
        "plt.legend()\n",
        "plt.grid(False)\n",
        "plt.tight_layout()\n",
        "plt.show()"
      ]
    },
    {
      "cell_type": "markdown",
      "metadata": {
        "id": "Z8M7kps-Vp3w"
      },
      "source": [
        "## 7. データが3次元のSVM（データ表示）"
      ]
    },
    {
      "cell_type": "code",
      "execution_count": null,
      "metadata": {
        "id": "5aZEaDT1h5AY"
      },
      "outputs": [],
      "source": [
        "# SVMで分離可能な3次元データを生成\n",
        "from sklearn.datasets import make_classification\n",
        "\n",
        "# ランダムな3次元データを生成（SVMで分離可能なデータ）\n",
        "X_3d_svm, y_3d_svm = make_classification(\n",
        "    n_samples=100, n_features=3, n_informative=3, n_redundant=0,\n",
        "    n_clusters_per_class=1, class_sep=2.0, random_state=42\n",
        ")\n",
        "\n",
        "# 3次元空間でのデータ表示\n",
        "fig = plt.figure(figsize=(8, 6))\n",
        "ax = fig.add_subplot(111, projection='3d')\n",
        "\n",
        "# データポイントのプロット（クラスごとに色分け）\n",
        "ax.scatter(X_3d_svm[y_3d_svm == 0][:, 0], X_3d_svm[y_3d_svm == 0][:, 1], X_3d_svm[y_3d_svm == 0][:, 2],\n",
        "           color='red', label='赤い点 (クラス 0)')\n",
        "ax.scatter(X_3d_svm[y_3d_svm == 1][:, 0], X_3d_svm[y_3d_svm == 1][:, 1], X_3d_svm[y_3d_svm == 1][:, 2],\n",
        "           color='blue', label='青い点 (クラス 1)')\n",
        "\n",
        "# 軸ラベルとタイトル\n",
        "ax.set_xlabel(\"特徴1\")\n",
        "ax.set_ylabel(\"特徴2\")\n",
        "ax.set_zlabel(\"特徴3 (Z軸)\")\n",
        "ax.set_title(\"3次元空間でのSVM分離可能なデータ\")\n",
        "\n",
        "# 固定視点\n",
        "ax.view_init(elev=30, azim=125)\n",
        "\n",
        "# 図全体の余白を調整\n",
        "fig.subplots_adjust(left=0.2, right=0.85, top=0.85, bottom=0.2)\n",
        "\n",
        "# 凡例を表示\n",
        "ax.legend(loc='upper left', bbox_to_anchor=(1.05, 1))\n",
        "plt.show()\n"
      ]
    },
    {
      "cell_type": "markdown",
      "metadata": {
        "id": "QEiyq1EJiSaW"
      },
      "source": [
        "## 8. データが3次元のSVM（分離**平面**）"
      ]
    },
    {
      "cell_type": "code",
      "execution_count": null,
      "metadata": {
        "id": "9kfZP-GgVwtB"
      },
      "outputs": [],
      "source": [
        "# SVMモデルの学習\n",
        "svm_model = SVC(kernel='linear')  # 線形カーネルを使用\n",
        "svm_model.fit(X_3d_svm, y_3d_svm)\n",
        "\n",
        "# メッシュグリッドを再生成（形状を合わせる）\n",
        "xx, yy = np.meshgrid(\n",
        "    np.linspace(X_3d_svm[:, 0].min(), X_3d_svm[:, 0].max(), 20),\n",
        "    np.linspace(X_3d_svm[:, 1].min(), X_3d_svm[:, 1].max(), 20)\n",
        ")\n",
        "\n",
        "# 分離平面を計算（形状を合わせたメッシュに対応）\n",
        "zz = -(svm_model.coef_[0, 0] * xx + svm_model.coef_[0, 1] * yy + svm_model.intercept_[0]) / svm_model.coef_[0, 2]\n",
        "\n",
        "# 3次元空間でのデータ表示（分離平面付き）\n",
        "fig = plt.figure(figsize=(8, 6))\n",
        "ax = fig.add_subplot(111, projection='3d')\n",
        "\n",
        "# データポイントのプロット（クラスごとに色分け）\n",
        "ax.scatter(X_3d_svm[y_3d_svm == 0][:, 0], X_3d_svm[y_3d_svm == 0][:, 1], X_3d_svm[y_3d_svm == 0][:, 2],\n",
        "           color='red', label='赤い点 (クラス 0)')\n",
        "ax.scatter(X_3d_svm[y_3d_svm == 1][:, 0], X_3d_svm[y_3d_svm == 1][:, 1], X_3d_svm[y_3d_svm == 1][:, 2],\n",
        "           color='blue', label='青い点 (クラス 1)')\n",
        "\n",
        "# 分離平面のプロット（淡い青色）\n",
        "ax.plot_surface(xx, yy, zz, color='lightblue', alpha=0.5, edgecolor='black')\n",
        "\n",
        "# 軸ラベルとタイトル\n",
        "ax.set_xlabel(\"特徴1\")\n",
        "ax.set_ylabel(\"特徴2\")\n",
        "ax.set_zlabel(\"特徴3 (Z軸)\")\n",
        "ax.set_title(\"3次元空間でのSVM分離平面表示\")\n",
        "\n",
        "# 固定視点\n",
        "ax.view_init(elev=30, azim=125)\n",
        "\n",
        "# Z軸の範囲をデータに合わせる\n",
        "z_min, z_max = X_3d_svm[:, 2].min(), X_3d_svm[:, 2].max()\n",
        "ax.set_zlim(z_min, z_max)\n",
        "\n",
        "# 図全体の余白を調整\n",
        "fig.subplots_adjust(left=0.2, right=0.85, top=0.85, bottom=0.2)\n",
        "\n",
        "# 凡例を表示\n",
        "ax.legend(loc='upper left', bbox_to_anchor=(1.05, 1))\n",
        "plt.show()\n"
      ]
    },
    {
      "cell_type": "markdown",
      "metadata": {
        "id": "l7Pc0CwZUioa"
      },
      "source": [
        "## 9. 線形分離が困難なSVM（データ表示）"
      ]
    },
    {
      "cell_type": "code",
      "execution_count": null,
      "metadata": {
        "id": "RezjgTWJzMqK"
      },
      "outputs": [],
      "source": [
        "import numpy as np\n",
        "import matplotlib.pyplot as plt\n",
        "from sklearn.datasets import make_circles\n",
        "from sklearn.svm import SVC\n",
        "\n",
        "# データの作成（非線形データ）\n",
        "X, y = make_circles(n_samples=200, factor=0.5, noise=0.1, random_state=42)\n",
        "\n",
        "# グラフで非線形データを可視化\n",
        "plt.scatter(X[y == 0][:, 0], X[y == 0][:, 1], color='red', label='赤い点 (クラス 0)')\n",
        "plt.scatter(X[y == 1][:, 0], X[y == 1][:, 1], color='blue', label='青い点 (クラス 1)')\n",
        "plt.xlabel(\"特徴1\")\n",
        "plt.ylabel(\"特徴2\")\n",
        "plt.title(\"線形分離できないデータ\")\n",
        "plt.legend()\n",
        "plt.show()\n"
      ]
    },
    {
      "cell_type": "markdown",
      "metadata": {
        "id": "l0-3sF_eZVQK"
      },
      "source": [
        "## 10.線形分離が困難なSVM（データ変換を用いて、分離しやすい形に）"
      ]
    },
    {
      "cell_type": "markdown",
      "metadata": {
        "id": "7AFESxoCjAPg"
      },
      "source": [
        "この例では、クラス0と1が円状に分布しており、直線や平面で分離することができそう\n",
        "\n",
        "x1, x2 を、それぞれ、x1^2 + x2^2 として、新たな3次元目（高さ）を作ることで、平面で切りやすくしている"
      ]
    },
    {
      "cell_type": "code",
      "execution_count": null,
      "metadata": {
        "id": "3o2fw3maz2o6"
      },
      "outputs": [],
      "source": [
        "import numpy as np\n",
        "import matplotlib.pyplot as plt\n",
        "from sklearn.datasets import make_circles\n",
        "from mpl_toolkits.mplot3d import Axes3D\n",
        "import matplotlib.font_manager as fm\n",
        "\n",
        "# データの作成（非線形データ）\n",
        "X, y = make_circles(n_samples=200, factor=0.5, noise=0.1, random_state=42)\n",
        "\n",
        "# 高次元マッピング: φ(x1, x2) = (x1, x2, x1^2 + x2^2)\n",
        "X_mapped = np.hstack((X, (X[:, 0]**2 + X[:, 1]**2).reshape(-1, 1)))\n",
        "\n",
        "# 3次元グラフのプロット\n",
        "fig = plt.figure(figsize=(8, 8))\n",
        "ax = fig.add_subplot(111, projection='3d')\n",
        "ax.scatter(X_mapped[y == 0][:, 0], X_mapped[y == 0][:, 1], X_mapped[y == 0][:, 2],\n",
        "           color='red', label='赤い点 (クラス 0)')\n",
        "ax.scatter(X_mapped[y == 1][:, 0], X_mapped[y == 1][:, 1], X_mapped[y == 1][:, 2],\n",
        "           color='blue', label='青い点 (クラス 1)')\n",
        "ax.set_xlabel(\"特徴1 (x1)\", fontproperties=jp_font)\n",
        "ax.set_ylabel(\"特徴2 (x2)\", fontproperties=jp_font)\n",
        "ax.set_zlabel(\"x1^2 + x2^2\", fontproperties=jp_font)\n",
        "ax.set_title(\"3次元空間でのデータマッピング\", fontproperties=jp_font)\n",
        "ax.legend(prop=jp_font)\n",
        "plt.show()\n"
      ]
    },
    {
      "cell_type": "markdown",
      "metadata": {
        "id": "cYzNlvSDircX"
      },
      "source": [
        "## 参考：特徴量変換すれば、何かしらの分離直線や分離平面は見つかる"
      ]
    },
    {
      "cell_type": "code",
      "execution_count": null,
      "metadata": {
        "id": "RhfEKz1CSf6D"
      },
      "outputs": [],
      "source": [
        "import numpy as np\n",
        "import matplotlib.pyplot as plt\n",
        "from mpl_toolkits.mplot3d import Axes3D\n",
        "\n",
        "# データの生成（周期的なデータ）\n",
        "np.random.seed(42)\n",
        "x1 = np.linspace(0, 2 * np.pi, 200)  # 0から2πの範囲でデータを生成\n",
        "x2 = np.random.uniform(0, 2 * np.pi, 200)  # ランダムなx2の値\n",
        "labels = (np.sin(x1) + np.cos(x2) > 1).astype(int)  # sin(x1) + cos(x2) > 1で分類\n",
        "\n",
        "# 2次元グラフのプロット\n",
        "plt.figure(figsize=(6, 6))\n",
        "plt.scatter(x1[labels == 0], x2[labels == 0], color='red', label='クラス 0')\n",
        "plt.scatter(x1[labels == 1], x2[labels == 1], color='blue', label='クラス 1')\n",
        "plt.xlabel(\"x1\")\n",
        "plt.ylabel(\"x2\")\n",
        "plt.title(\"非線形データの2次元空間\")\n",
        "plt.legend()\n",
        "plt.grid()\n",
        "plt.show()\n",
        "\n",
        "# 高次元マッピング: z1 = sin(x1), z2 = cos(x2)\n",
        "z1 = np.sin(x1)\n",
        "z2 = np.cos(x2)\n",
        "\n",
        "# 3次元グラフのプロット\n",
        "fig = plt.figure(figsize=(8, 8))\n",
        "ax = fig.add_subplot(111, projection='3d')\n",
        "ax.scatter(z1[labels == 0], z2[labels == 0], x2[labels == 0], color='red', label='クラス 0')\n",
        "ax.scatter(z1[labels == 1], z2[labels == 1], x2[labels == 1], color='blue', label='クラス 1')\n",
        "ax.set_xlabel(\"sin(x1)\")\n",
        "ax.set_ylabel(\"cos(x2)\")\n",
        "ax.set_zlabel(\"x2\")\n",
        "ax.set_title(\"非線形データを3次元空間にマッピング\")\n",
        "ax.legend()\n",
        "plt.show()\n"
      ]
    },
    {
      "cell_type": "code",
      "execution_count": null,
      "metadata": {
        "id": "Y5v2xkVYSzAJ"
      },
      "outputs": [],
      "source": [
        "# 2次元グラフ（z1 = sin(x1), z2 = cos(x2)）のプロット\n",
        "plt.figure(figsize=(6, 6))\n",
        "plt.scatter(z1[labels == 0], z2[labels == 0], color='red', label='クラス 0')\n",
        "plt.scatter(z1[labels == 1], z2[labels == 1], color='blue', label='クラス 1')\n",
        "plt.xlabel(\"sin(x1)\")\n",
        "plt.ylabel(\"cos(x2)\")\n",
        "plt.title(\"z1 vs z2 の2次元空間\")\n",
        "plt.legend()\n",
        "plt.grid()\n",
        "plt.show()\n"
      ]
    },
    {
      "cell_type": "code",
      "execution_count": null,
      "metadata": {
        "id": "ibJfhQdQTFPf"
      },
      "outputs": [],
      "source": [
        "# プロット（Y軸の範囲を [-1, 1] に制限）\n",
        "plt.figure(figsize=(6, 6))\n",
        "plt.scatter(z1[labels == 0], z2[labels == 0], color='red', label='クラス 0')\n",
        "plt.scatter(z1[labels == 1], z2[labels == 1], color='blue', label='クラス 1')\n",
        "plt.plot(xx, yy, color='green', linestyle='--', label='分離線')\n",
        "plt.xlabel(\"sin(x1)\")\n",
        "plt.ylabel(\"cos(x2)\")\n",
        "plt.title(\"z1 vs z2 の2次元空間（分離線）\")\n",
        "plt.ylim(-1, 1)  # Y軸の範囲を [-1, 1] に制限\n",
        "plt.legend()\n",
        "plt.grid()\n",
        "plt.show()\n"
      ]
    }
  ],
  "metadata": {
    "colab": {
      "include_colab_link": true,
      "provenance": []
    },
    "kernelspec": {
      "display_name": "Python 3",
      "name": "python3"
    },
    "language_info": {
      "codemirror_mode": {
        "name": "ipython",
        "version": 3
      },
      "file_extension": ".py",
      "mimetype": "text/x-python",
      "name": "python",
      "nbconvert_exporter": "python",
      "pygments_lexer": "ipython3",
      "version": "3.10.12"
    }
  },
  "nbformat": 4,
  "nbformat_minor": 0
}
