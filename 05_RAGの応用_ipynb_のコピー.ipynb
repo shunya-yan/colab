{
  "cells": [
    {
      "cell_type": "markdown",
      "metadata": {
        "id": "view-in-github",
        "colab_type": "text"
      },
      "source": [
        "<a href=\"https://colab.research.google.com/github/shunya-yan/colab/blob/main/05_RAG%E3%81%AE%E5%BF%9C%E7%94%A8_ipynb_%E3%81%AE%E3%82%B3%E3%83%94%E3%83%BC.ipynb\" target=\"_parent\"><img src=\"https://colab.research.google.com/assets/colab-badge.svg\" alt=\"Open In Colab\"/></a>"
      ]
    },
    {
      "cell_type": "markdown",
      "id": "ux7C2-XkWhpP",
      "metadata": {
        "id": "ux7C2-XkWhpP"
      },
      "source": [
        "# 0.環境構築"
      ]
    },
    {
      "cell_type": "code",
      "execution_count": null,
      "id": "zq_ICSyswd21",
      "metadata": {
        "colab": {
          "base_uri": "https://localhost:8080/"
        },
        "id": "zq_ICSyswd21",
        "outputId": "298fe680-fb83-47fa-aa33-616950d6571c",
        "collapsed": true
      },
      "outputs": [
        {
          "output_type": "stream",
          "name": "stdout",
          "text": [
            "Collecting fastapi\n",
            "  Downloading fastapi-0.112.2-py3-none-any.whl.metadata (27 kB)\n",
            "Collecting langchain\n",
            "  Downloading langchain-0.2.15-py3-none-any.whl.metadata (7.1 kB)\n",
            "Collecting langchain_community\n",
            "  Downloading langchain_community-0.2.15-py3-none-any.whl.metadata (2.7 kB)\n",
            "Collecting langchain_openai\n",
            "  Downloading langchain_openai-0.1.23-py3-none-any.whl.metadata (2.6 kB)\n",
            "Collecting langchain-qdrant\n",
            "  Downloading langchain_qdrant-0.1.3-py3-none-any.whl.metadata (1.7 kB)\n",
            "Collecting qdrant_client\n",
            "  Downloading qdrant_client-1.11.1-py3-none-any.whl.metadata (10 kB)\n",
            "Collecting langserve\n",
            "  Downloading langserve-0.2.3-py3-none-any.whl.metadata (39 kB)\n",
            "Collecting langchain_experimental\n",
            "  Downloading langchain_experimental-0.0.64-py3-none-any.whl.metadata (1.7 kB)\n",
            "Collecting gradio\n",
            "  Downloading gradio-4.42.0-py3-none-any.whl.metadata (15 kB)\n",
            "Collecting starlette<0.39.0,>=0.37.2 (from fastapi)\n",
            "  Downloading starlette-0.38.4-py3-none-any.whl.metadata (6.0 kB)\n",
            "Requirement already satisfied: pydantic!=1.8,!=1.8.1,!=2.0.0,!=2.0.1,!=2.1.0,<3.0.0,>=1.7.4 in /usr/local/lib/python3.10/dist-packages (from fastapi) (2.8.2)\n",
            "Requirement already satisfied: typing-extensions>=4.8.0 in /usr/local/lib/python3.10/dist-packages (from fastapi) (4.12.2)\n",
            "Requirement already satisfied: PyYAML>=5.3 in /usr/local/lib/python3.10/dist-packages (from langchain) (6.0.2)\n",
            "Requirement already satisfied: SQLAlchemy<3,>=1.4 in /usr/local/lib/python3.10/dist-packages (from langchain) (2.0.32)\n",
            "Requirement already satisfied: aiohttp<4.0.0,>=3.8.3 in /usr/local/lib/python3.10/dist-packages (from langchain) (3.10.5)\n",
            "Requirement already satisfied: async-timeout<5.0.0,>=4.0.0 in /usr/local/lib/python3.10/dist-packages (from langchain) (4.0.3)\n",
            "Collecting langchain-core<0.3.0,>=0.2.35 (from langchain)\n",
            "  Downloading langchain_core-0.2.37-py3-none-any.whl.metadata (6.2 kB)\n",
            "Collecting langchain-text-splitters<0.3.0,>=0.2.0 (from langchain)\n",
            "  Downloading langchain_text_splitters-0.2.2-py3-none-any.whl.metadata (2.1 kB)\n",
            "Collecting langsmith<0.2.0,>=0.1.17 (from langchain)\n",
            "  Downloading langsmith-0.1.108-py3-none-any.whl.metadata (13 kB)\n",
            "Requirement already satisfied: numpy<2,>=1 in /usr/local/lib/python3.10/dist-packages (from langchain) (1.26.4)\n",
            "Requirement already satisfied: requests<3,>=2 in /usr/local/lib/python3.10/dist-packages (from langchain) (2.32.3)\n",
            "Collecting tenacity!=8.4.0,<9.0.0,>=8.1.0 (from langchain)\n",
            "  Downloading tenacity-8.5.0-py3-none-any.whl.metadata (1.2 kB)\n",
            "Collecting dataclasses-json<0.7,>=0.5.7 (from langchain_community)\n",
            "  Downloading dataclasses_json-0.6.7-py3-none-any.whl.metadata (25 kB)\n",
            "Collecting openai<2.0.0,>=1.40.0 (from langchain_openai)\n",
            "  Downloading openai-1.43.0-py3-none-any.whl.metadata (22 kB)\n",
            "Collecting tiktoken<1,>=0.7 (from langchain_openai)\n",
            "  Downloading tiktoken-0.7.0-cp310-cp310-manylinux_2_17_x86_64.manylinux2014_x86_64.whl.metadata (6.6 kB)\n",
            "Requirement already satisfied: grpcio>=1.41.0 in /usr/local/lib/python3.10/dist-packages (from qdrant_client) (1.64.1)\n",
            "Collecting grpcio-tools>=1.41.0 (from qdrant_client)\n",
            "  Downloading grpcio_tools-1.66.1-cp310-cp310-manylinux_2_17_x86_64.manylinux2014_x86_64.whl.metadata (5.3 kB)\n",
            "Collecting httpx>=0.20.0 (from httpx[http2]>=0.20.0->qdrant_client)\n",
            "  Downloading httpx-0.27.2-py3-none-any.whl.metadata (7.1 kB)\n",
            "Collecting portalocker<3.0.0,>=2.7.0 (from qdrant_client)\n",
            "  Downloading portalocker-2.10.1-py3-none-any.whl.metadata (8.5 kB)\n",
            "Requirement already satisfied: urllib3<3,>=1.26.14 in /usr/local/lib/python3.10/dist-packages (from qdrant_client) (2.0.7)\n",
            "Collecting orjson>=2 (from langserve)\n",
            "  Downloading orjson-3.10.7-cp310-cp310-manylinux_2_17_x86_64.manylinux2014_x86_64.whl.metadata (50 kB)\n",
            "\u001b[2K     \u001b[90m━━━━━━━━━━━━━━━━━━━━━━━━━━━━━━━━━━━━━━━━\u001b[0m \u001b[32m50.4/50.4 kB\u001b[0m \u001b[31m588.9 kB/s\u001b[0m eta \u001b[36m0:00:00\u001b[0m\n",
            "\u001b[?25hCollecting pyproject-toml<0.0.11,>=0.0.10 (from langserve)\n",
            "  Downloading pyproject_toml-0.0.10-py3-none-any.whl.metadata (642 bytes)\n",
            "Collecting aiofiles<24.0,>=22.0 (from gradio)\n",
            "  Downloading aiofiles-23.2.1-py3-none-any.whl.metadata (9.7 kB)\n",
            "Requirement already satisfied: anyio<5.0,>=3.0 in /usr/local/lib/python3.10/dist-packages (from gradio) (3.7.1)\n",
            "Collecting ffmpy (from gradio)\n",
            "  Downloading ffmpy-0.4.0-py3-none-any.whl.metadata (2.9 kB)\n",
            "Collecting gradio-client==1.3.0 (from gradio)\n",
            "  Downloading gradio_client-1.3.0-py3-none-any.whl.metadata (7.1 kB)\n",
            "Requirement already satisfied: huggingface-hub>=0.19.3 in /usr/local/lib/python3.10/dist-packages (from gradio) (0.23.5)\n",
            "Requirement already satisfied: importlib-resources<7.0,>=1.3 in /usr/local/lib/python3.10/dist-packages (from gradio) (6.4.4)\n",
            "Requirement already satisfied: jinja2<4.0 in /usr/local/lib/python3.10/dist-packages (from gradio) (3.1.4)\n",
            "Requirement already satisfied: markupsafe~=2.0 in /usr/local/lib/python3.10/dist-packages (from gradio) (2.1.5)\n",
            "Requirement already satisfied: matplotlib~=3.0 in /usr/local/lib/python3.10/dist-packages (from gradio) (3.7.1)\n",
            "Requirement already satisfied: packaging in /usr/local/lib/python3.10/dist-packages (from gradio) (24.1)\n",
            "Requirement already satisfied: pandas<3.0,>=1.0 in /usr/local/lib/python3.10/dist-packages (from gradio) (2.1.4)\n",
            "Requirement already satisfied: pillow<11.0,>=8.0 in /usr/local/lib/python3.10/dist-packages (from gradio) (9.4.0)\n",
            "Collecting pydub (from gradio)\n",
            "  Downloading pydub-0.25.1-py2.py3-none-any.whl.metadata (1.4 kB)\n",
            "Collecting python-multipart>=0.0.9 (from gradio)\n",
            "  Downloading python_multipart-0.0.9-py3-none-any.whl.metadata (2.5 kB)\n",
            "Collecting ruff>=0.2.2 (from gradio)\n",
            "  Downloading ruff-0.6.3-py3-none-manylinux_2_17_x86_64.manylinux2014_x86_64.whl.metadata (25 kB)\n",
            "Collecting semantic-version~=2.0 (from gradio)\n",
            "  Downloading semantic_version-2.10.0-py2.py3-none-any.whl.metadata (9.7 kB)\n",
            "Collecting tomlkit==0.12.0 (from gradio)\n",
            "  Downloading tomlkit-0.12.0-py3-none-any.whl.metadata (2.7 kB)\n",
            "Requirement already satisfied: typer<1.0,>=0.12 in /usr/local/lib/python3.10/dist-packages (from gradio) (0.12.5)\n",
            "Collecting uvicorn>=0.14.0 (from gradio)\n",
            "  Downloading uvicorn-0.30.6-py3-none-any.whl.metadata (6.6 kB)\n",
            "Requirement already satisfied: fsspec in /usr/local/lib/python3.10/dist-packages (from gradio-client==1.3.0->gradio) (2024.6.1)\n",
            "Collecting websockets<13.0,>=10.0 (from gradio-client==1.3.0->gradio)\n",
            "  Downloading websockets-12.0-cp310-cp310-manylinux_2_5_x86_64.manylinux1_x86_64.manylinux_2_17_x86_64.manylinux2014_x86_64.whl.metadata (6.6 kB)\n",
            "Requirement already satisfied: aiohappyeyeballs>=2.3.0 in /usr/local/lib/python3.10/dist-packages (from aiohttp<4.0.0,>=3.8.3->langchain) (2.4.0)\n",
            "Requirement already satisfied: aiosignal>=1.1.2 in /usr/local/lib/python3.10/dist-packages (from aiohttp<4.0.0,>=3.8.3->langchain) (1.3.1)\n",
            "Requirement already satisfied: attrs>=17.3.0 in /usr/local/lib/python3.10/dist-packages (from aiohttp<4.0.0,>=3.8.3->langchain) (24.2.0)\n",
            "Requirement already satisfied: frozenlist>=1.1.1 in /usr/local/lib/python3.10/dist-packages (from aiohttp<4.0.0,>=3.8.3->langchain) (1.4.1)\n",
            "Requirement already satisfied: multidict<7.0,>=4.5 in /usr/local/lib/python3.10/dist-packages (from aiohttp<4.0.0,>=3.8.3->langchain) (6.0.5)\n",
            "Requirement already satisfied: yarl<2.0,>=1.0 in /usr/local/lib/python3.10/dist-packages (from aiohttp<4.0.0,>=3.8.3->langchain) (1.9.4)\n",
            "Requirement already satisfied: idna>=2.8 in /usr/local/lib/python3.10/dist-packages (from anyio<5.0,>=3.0->gradio) (3.8)\n",
            "Requirement already satisfied: sniffio>=1.1 in /usr/local/lib/python3.10/dist-packages (from anyio<5.0,>=3.0->gradio) (1.3.1)\n",
            "Requirement already satisfied: exceptiongroup in /usr/local/lib/python3.10/dist-packages (from anyio<5.0,>=3.0->gradio) (1.2.2)\n",
            "Collecting marshmallow<4.0.0,>=3.18.0 (from dataclasses-json<0.7,>=0.5.7->langchain_community)\n",
            "  Downloading marshmallow-3.22.0-py3-none-any.whl.metadata (7.2 kB)\n",
            "Collecting typing-inspect<1,>=0.4.0 (from dataclasses-json<0.7,>=0.5.7->langchain_community)\n",
            "  Downloading typing_inspect-0.9.0-py3-none-any.whl.metadata (1.5 kB)\n",
            "Collecting protobuf<6.0dev,>=5.26.1 (from grpcio-tools>=1.41.0->qdrant_client)\n",
            "  Downloading protobuf-5.28.0-cp38-abi3-manylinux2014_x86_64.whl.metadata (592 bytes)\n",
            "Collecting grpcio>=1.41.0 (from qdrant_client)\n",
            "  Downloading grpcio-1.66.1-cp310-cp310-manylinux_2_17_x86_64.manylinux2014_x86_64.whl.metadata (3.9 kB)\n",
            "Requirement already satisfied: setuptools in /usr/local/lib/python3.10/dist-packages (from grpcio-tools>=1.41.0->qdrant_client) (71.0.4)\n",
            "Requirement already satisfied: certifi in /usr/local/lib/python3.10/dist-packages (from httpx>=0.20.0->httpx[http2]>=0.20.0->qdrant_client) (2024.7.4)\n",
            "Collecting httpcore==1.* (from httpx>=0.20.0->httpx[http2]>=0.20.0->qdrant_client)\n",
            "  Downloading httpcore-1.0.5-py3-none-any.whl.metadata (20 kB)\n",
            "Collecting h11<0.15,>=0.13 (from httpcore==1.*->httpx>=0.20.0->httpx[http2]>=0.20.0->qdrant_client)\n",
            "  Downloading h11-0.14.0-py3-none-any.whl.metadata (8.2 kB)\n",
            "Collecting h2<5,>=3 (from httpx[http2]>=0.20.0->qdrant_client)\n",
            "  Downloading h2-4.1.0-py3-none-any.whl.metadata (3.6 kB)\n",
            "Requirement already satisfied: filelock in /usr/local/lib/python3.10/dist-packages (from huggingface-hub>=0.19.3->gradio) (3.15.4)\n",
            "Requirement already satisfied: tqdm>=4.42.1 in /usr/local/lib/python3.10/dist-packages (from huggingface-hub>=0.19.3->gradio) (4.66.5)\n",
            "Collecting jsonpatch<2.0,>=1.33 (from langchain-core<0.3.0,>=0.2.35->langchain)\n",
            "  Downloading jsonpatch-1.33-py2.py3-none-any.whl.metadata (3.0 kB)\n",
            "Requirement already satisfied: contourpy>=1.0.1 in /usr/local/lib/python3.10/dist-packages (from matplotlib~=3.0->gradio) (1.2.1)\n",
            "Requirement already satisfied: cycler>=0.10 in /usr/local/lib/python3.10/dist-packages (from matplotlib~=3.0->gradio) (0.12.1)\n",
            "Requirement already satisfied: fonttools>=4.22.0 in /usr/local/lib/python3.10/dist-packages (from matplotlib~=3.0->gradio) (4.53.1)\n",
            "Requirement already satisfied: kiwisolver>=1.0.1 in /usr/local/lib/python3.10/dist-packages (from matplotlib~=3.0->gradio) (1.4.5)\n",
            "Requirement already satisfied: pyparsing>=2.3.1 in /usr/local/lib/python3.10/dist-packages (from matplotlib~=3.0->gradio) (3.1.4)\n",
            "Requirement already satisfied: python-dateutil>=2.7 in /usr/local/lib/python3.10/dist-packages (from matplotlib~=3.0->gradio) (2.8.2)\n",
            "Requirement already satisfied: distro<2,>=1.7.0 in /usr/lib/python3/dist-packages (from openai<2.0.0,>=1.40.0->langchain_openai) (1.7.0)\n",
            "Collecting jiter<1,>=0.4.0 (from openai<2.0.0,>=1.40.0->langchain_openai)\n",
            "  Downloading jiter-0.5.0-cp310-cp310-manylinux_2_17_x86_64.manylinux2014_x86_64.whl.metadata (3.6 kB)\n",
            "Requirement already satisfied: pytz>=2020.1 in /usr/local/lib/python3.10/dist-packages (from pandas<3.0,>=1.0->gradio) (2024.1)\n",
            "Requirement already satisfied: tzdata>=2022.1 in /usr/local/lib/python3.10/dist-packages (from pandas<3.0,>=1.0->gradio) (2024.1)\n",
            "Requirement already satisfied: annotated-types>=0.4.0 in /usr/local/lib/python3.10/dist-packages (from pydantic!=1.8,!=1.8.1,!=2.0.0,!=2.0.1,!=2.1.0,<3.0.0,>=1.7.4->fastapi) (0.7.0)\n",
            "Requirement already satisfied: pydantic-core==2.20.1 in /usr/local/lib/python3.10/dist-packages (from pydantic!=1.8,!=1.8.1,!=2.0.0,!=2.0.1,!=2.1.0,<3.0.0,>=1.7.4->fastapi) (2.20.1)\n",
            "Requirement already satisfied: wheel in /usr/local/lib/python3.10/dist-packages (from pyproject-toml<0.0.11,>=0.0.10->langserve) (0.44.0)\n",
            "Requirement already satisfied: toml in /usr/local/lib/python3.10/dist-packages (from pyproject-toml<0.0.11,>=0.0.10->langserve) (0.10.2)\n",
            "Requirement already satisfied: jsonschema in /usr/local/lib/python3.10/dist-packages (from pyproject-toml<0.0.11,>=0.0.10->langserve) (4.23.0)\n",
            "Requirement already satisfied: charset-normalizer<4,>=2 in /usr/local/lib/python3.10/dist-packages (from requests<3,>=2->langchain) (3.3.2)\n",
            "Requirement already satisfied: greenlet!=0.4.17 in /usr/local/lib/python3.10/dist-packages (from SQLAlchemy<3,>=1.4->langchain) (3.0.3)\n",
            "Requirement already satisfied: regex>=2022.1.18 in /usr/local/lib/python3.10/dist-packages (from tiktoken<1,>=0.7->langchain_openai) (2024.5.15)\n",
            "Requirement already satisfied: click>=8.0.0 in /usr/local/lib/python3.10/dist-packages (from typer<1.0,>=0.12->gradio) (8.1.7)\n",
            "Requirement already satisfied: shellingham>=1.3.0 in /usr/local/lib/python3.10/dist-packages (from typer<1.0,>=0.12->gradio) (1.5.4)\n",
            "Requirement already satisfied: rich>=10.11.0 in /usr/local/lib/python3.10/dist-packages (from typer<1.0,>=0.12->gradio) (13.8.0)\n",
            "Collecting hyperframe<7,>=6.0 (from h2<5,>=3->httpx[http2]>=0.20.0->qdrant_client)\n",
            "  Downloading hyperframe-6.0.1-py3-none-any.whl.metadata (2.7 kB)\n",
            "Collecting hpack<5,>=4.0 (from h2<5,>=3->httpx[http2]>=0.20.0->qdrant_client)\n",
            "  Downloading hpack-4.0.0-py3-none-any.whl.metadata (2.5 kB)\n",
            "Collecting jsonpointer>=1.9 (from jsonpatch<2.0,>=1.33->langchain-core<0.3.0,>=0.2.35->langchain)\n",
            "  Downloading jsonpointer-3.0.0-py2.py3-none-any.whl.metadata (2.3 kB)\n",
            "Requirement already satisfied: six>=1.5 in /usr/local/lib/python3.10/dist-packages (from python-dateutil>=2.7->matplotlib~=3.0->gradio) (1.16.0)\n",
            "Requirement already satisfied: markdown-it-py>=2.2.0 in /usr/local/lib/python3.10/dist-packages (from rich>=10.11.0->typer<1.0,>=0.12->gradio) (3.0.0)\n",
            "Requirement already satisfied: pygments<3.0.0,>=2.13.0 in /usr/local/lib/python3.10/dist-packages (from rich>=10.11.0->typer<1.0,>=0.12->gradio) (2.16.1)\n",
            "Collecting mypy-extensions>=0.3.0 (from typing-inspect<1,>=0.4.0->dataclasses-json<0.7,>=0.5.7->langchain_community)\n",
            "  Downloading mypy_extensions-1.0.0-py3-none-any.whl.metadata (1.1 kB)\n",
            "Requirement already satisfied: jsonschema-specifications>=2023.03.6 in /usr/local/lib/python3.10/dist-packages (from jsonschema->pyproject-toml<0.0.11,>=0.0.10->langserve) (2023.12.1)\n",
            "Requirement already satisfied: referencing>=0.28.4 in /usr/local/lib/python3.10/dist-packages (from jsonschema->pyproject-toml<0.0.11,>=0.0.10->langserve) (0.35.1)\n",
            "Requirement already satisfied: rpds-py>=0.7.1 in /usr/local/lib/python3.10/dist-packages (from jsonschema->pyproject-toml<0.0.11,>=0.0.10->langserve) (0.20.0)\n",
            "Requirement already satisfied: mdurl~=0.1 in /usr/local/lib/python3.10/dist-packages (from markdown-it-py>=2.2.0->rich>=10.11.0->typer<1.0,>=0.12->gradio) (0.1.2)\n",
            "Downloading fastapi-0.112.2-py3-none-any.whl (93 kB)\n",
            "\u001b[2K   \u001b[90m━━━━━━━━━━━━━━━━━━━━━━━━━━━━━━━━━━━━━━━━\u001b[0m \u001b[32m93.5/93.5 kB\u001b[0m \u001b[31m4.1 MB/s\u001b[0m eta \u001b[36m0:00:00\u001b[0m\n",
            "\u001b[?25hDownloading langchain-0.2.15-py3-none-any.whl (1.0 MB)\n",
            "\u001b[2K   \u001b[90m━━━━━━━━━━━━━━━━━━━━━━━━━━━━━━━━━━━━━━━━\u001b[0m \u001b[32m1.0/1.0 MB\u001b[0m \u001b[31m19.3 MB/s\u001b[0m eta \u001b[36m0:00:00\u001b[0m\n",
            "\u001b[?25hDownloading langchain_community-0.2.15-py3-none-any.whl (2.3 MB)\n",
            "\u001b[2K   \u001b[90m━━━━━━━━━━━━━━━━━━━━━━━━━━━━━━━━━━━━━━━━\u001b[0m \u001b[32m2.3/2.3 MB\u001b[0m \u001b[31m30.7 MB/s\u001b[0m eta \u001b[36m0:00:00\u001b[0m\n",
            "\u001b[?25hDownloading langchain_openai-0.1.23-py3-none-any.whl (51 kB)\n",
            "\u001b[2K   \u001b[90m━━━━━━━━━━━━━━━━━━━━━━━━━━━━━━━━━━━━━━━━\u001b[0m \u001b[32m52.0/52.0 kB\u001b[0m \u001b[31m2.6 MB/s\u001b[0m eta \u001b[36m0:00:00\u001b[0m\n",
            "\u001b[?25hDownloading langchain_qdrant-0.1.3-py3-none-any.whl (22 kB)\n",
            "Downloading qdrant_client-1.11.1-py3-none-any.whl (259 kB)\n",
            "\u001b[2K   \u001b[90m━━━━━━━━━━━━━━━━━━━━━━━━━━━━━━━━━━━━━━━━\u001b[0m \u001b[32m259.4/259.4 kB\u001b[0m \u001b[31m16.4 MB/s\u001b[0m eta \u001b[36m0:00:00\u001b[0m\n",
            "\u001b[?25hDownloading langserve-0.2.3-py3-none-any.whl (1.2 MB)\n",
            "\u001b[2K   \u001b[90m━━━━━━━━━━━━━━━━━━━━━━━━━━━━━━━━━━━━━━━━\u001b[0m \u001b[32m1.2/1.2 MB\u001b[0m \u001b[31m47.6 MB/s\u001b[0m eta \u001b[36m0:00:00\u001b[0m\n",
            "\u001b[?25hDownloading langchain_experimental-0.0.64-py3-none-any.whl (204 kB)\n",
            "\u001b[2K   \u001b[90m━━━━━━━━━━━━━━━━━━━━━━━━━━━━━━━━━━━━━━━━\u001b[0m \u001b[32m204.3/204.3 kB\u001b[0m \u001b[31m12.3 MB/s\u001b[0m eta \u001b[36m0:00:00\u001b[0m\n",
            "\u001b[?25hDownloading gradio-4.42.0-py3-none-any.whl (16.8 MB)\n",
            "\u001b[2K   \u001b[90m━━━━━━━━━━━━━━━━━━━━━━━━━━━━━━━━━━━━━━━━\u001b[0m \u001b[32m16.8/16.8 MB\u001b[0m \u001b[31m47.4 MB/s\u001b[0m eta \u001b[36m0:00:00\u001b[0m\n",
            "\u001b[?25hDownloading gradio_client-1.3.0-py3-none-any.whl (318 kB)\n",
            "\u001b[2K   \u001b[90m━━━━━━━━━━━━━━━━━━━━━━━━━━━━━━━━━━━━━━━━\u001b[0m \u001b[32m318.7/318.7 kB\u001b[0m \u001b[31m23.1 MB/s\u001b[0m eta \u001b[36m0:00:00\u001b[0m\n",
            "\u001b[?25hDownloading tomlkit-0.12.0-py3-none-any.whl (37 kB)\n",
            "Downloading aiofiles-23.2.1-py3-none-any.whl (15 kB)\n",
            "Downloading dataclasses_json-0.6.7-py3-none-any.whl (28 kB)\n",
            "Downloading grpcio_tools-1.66.1-cp310-cp310-manylinux_2_17_x86_64.manylinux2014_x86_64.whl (2.4 MB)\n",
            "\u001b[2K   \u001b[90m━━━━━━━━━━━━━━━━━━━━━━━━━━━━━━━━━━━━━━━━\u001b[0m \u001b[32m2.4/2.4 MB\u001b[0m \u001b[31m48.7 MB/s\u001b[0m eta \u001b[36m0:00:00\u001b[0m\n",
            "\u001b[?25hDownloading grpcio-1.66.1-cp310-cp310-manylinux_2_17_x86_64.manylinux2014_x86_64.whl (5.7 MB)\n",
            "\u001b[2K   \u001b[90m━━━━━━━━━━━━━━━━━━━━━━━━━━━━━━━━━━━━━━━━\u001b[0m \u001b[32m5.7/5.7 MB\u001b[0m \u001b[31m57.6 MB/s\u001b[0m eta \u001b[36m0:00:00\u001b[0m\n",
            "\u001b[?25hDownloading httpx-0.27.2-py3-none-any.whl (76 kB)\n",
            "\u001b[2K   \u001b[90m━━━━━━━━━━━━━━━━━━━━━━━━━━━━━━━━━━━━━━━━\u001b[0m \u001b[32m76.4/76.4 kB\u001b[0m \u001b[31m6.3 MB/s\u001b[0m eta \u001b[36m0:00:00\u001b[0m\n",
            "\u001b[?25hDownloading httpcore-1.0.5-py3-none-any.whl (77 kB)\n",
            "\u001b[2K   \u001b[90m━━━━━━━━━━━━━━━━━━━━━━━━━━━━━━━━━━━━━━━━\u001b[0m \u001b[32m77.9/77.9 kB\u001b[0m \u001b[31m6.4 MB/s\u001b[0m eta \u001b[36m0:00:00\u001b[0m\n",
            "\u001b[?25hDownloading langchain_core-0.2.37-py3-none-any.whl (396 kB)\n",
            "\u001b[2K   \u001b[90m━━━━━━━━━━━━━━━━━━━━━━━━━━━━━━━━━━━━━━━━\u001b[0m \u001b[32m396.2/396.2 kB\u001b[0m \u001b[31m28.2 MB/s\u001b[0m eta \u001b[36m0:00:00\u001b[0m\n",
            "\u001b[?25hDownloading langchain_text_splitters-0.2.2-py3-none-any.whl (25 kB)\n",
            "Downloading langsmith-0.1.108-py3-none-any.whl (150 kB)\n",
            "\u001b[2K   \u001b[90m━━━━━━━━━━━━━━━━━━━━━━━━━━━━━━━━━━━━━━━━\u001b[0m \u001b[32m150.7/150.7 kB\u001b[0m \u001b[31m14.1 MB/s\u001b[0m eta \u001b[36m0:00:00\u001b[0m\n",
            "\u001b[?25hDownloading openai-1.43.0-py3-none-any.whl (365 kB)\n",
            "\u001b[2K   \u001b[90m━━━━━━━━━━━━━━━━━━━━━━━━━━━━━━━━━━━━━━━━\u001b[0m \u001b[32m365.7/365.7 kB\u001b[0m \u001b[31m23.9 MB/s\u001b[0m eta \u001b[36m0:00:00\u001b[0m\n",
            "\u001b[?25hDownloading orjson-3.10.7-cp310-cp310-manylinux_2_17_x86_64.manylinux2014_x86_64.whl (141 kB)\n",
            "\u001b[2K   \u001b[90m━━━━━━━━━━━━━━━━━━━━━━━━━━━━━━━━━━━━━━━━\u001b[0m \u001b[32m141.9/141.9 kB\u001b[0m \u001b[31m13.2 MB/s\u001b[0m eta \u001b[36m0:00:00\u001b[0m\n",
            "\u001b[?25hDownloading portalocker-2.10.1-py3-none-any.whl (18 kB)\n",
            "Downloading pyproject_toml-0.0.10-py3-none-any.whl (6.9 kB)\n",
            "Downloading python_multipart-0.0.9-py3-none-any.whl (22 kB)\n",
            "Downloading ruff-0.6.3-py3-none-manylinux_2_17_x86_64.manylinux2014_x86_64.whl (10.3 MB)\n",
            "\u001b[2K   \u001b[90m━━━━━━━━━━━━━━━━━━━━━━━━━━━━━━━━━━━━━━━━\u001b[0m \u001b[32m10.3/10.3 MB\u001b[0m \u001b[31m65.4 MB/s\u001b[0m eta \u001b[36m0:00:00\u001b[0m\n",
            "\u001b[?25hDownloading semantic_version-2.10.0-py2.py3-none-any.whl (15 kB)\n",
            "Downloading starlette-0.38.4-py3-none-any.whl (71 kB)\n",
            "\u001b[2K   \u001b[90m━━━━━━━━━━━━━━━━━━━━━━━━━━━━━━━━━━━━━━━━\u001b[0m \u001b[32m71.4/71.4 kB\u001b[0m \u001b[31m6.2 MB/s\u001b[0m eta \u001b[36m0:00:00\u001b[0m\n",
            "\u001b[?25hDownloading tenacity-8.5.0-py3-none-any.whl (28 kB)\n",
            "Downloading tiktoken-0.7.0-cp310-cp310-manylinux_2_17_x86_64.manylinux2014_x86_64.whl (1.1 MB)\n",
            "\u001b[2K   \u001b[90m━━━━━━━━━━━━━━━━━━━━━━━━━━━━━━━━━━━━━━━━\u001b[0m \u001b[32m1.1/1.1 MB\u001b[0m \u001b[31m44.3 MB/s\u001b[0m eta \u001b[36m0:00:00\u001b[0m\n",
            "\u001b[?25hDownloading uvicorn-0.30.6-py3-none-any.whl (62 kB)\n",
            "\u001b[2K   \u001b[90m━━━━━━━━━━━━━━━━━━━━━━━━━━━━━━━━━━━━━━━━\u001b[0m \u001b[32m62.8/62.8 kB\u001b[0m \u001b[31m5.3 MB/s\u001b[0m eta \u001b[36m0:00:00\u001b[0m\n",
            "\u001b[?25hDownloading ffmpy-0.4.0-py3-none-any.whl (5.8 kB)\n",
            "Downloading pydub-0.25.1-py2.py3-none-any.whl (32 kB)\n",
            "Downloading h11-0.14.0-py3-none-any.whl (58 kB)\n",
            "\u001b[2K   \u001b[90m━━━━━━━━━━━━━━━━━━━━━━━━━━━━━━━━━━━━━━━━\u001b[0m \u001b[32m58.3/58.3 kB\u001b[0m \u001b[31m5.0 MB/s\u001b[0m eta \u001b[36m0:00:00\u001b[0m\n",
            "\u001b[?25hDownloading h2-4.1.0-py3-none-any.whl (57 kB)\n",
            "\u001b[2K   \u001b[90m━━━━━━━━━━━━━━━━━━━━━━━━━━━━━━━━━━━━━━━━\u001b[0m \u001b[32m57.5/57.5 kB\u001b[0m \u001b[31m5.2 MB/s\u001b[0m eta \u001b[36m0:00:00\u001b[0m\n",
            "\u001b[?25hDownloading jiter-0.5.0-cp310-cp310-manylinux_2_17_x86_64.manylinux2014_x86_64.whl (318 kB)\n",
            "\u001b[2K   \u001b[90m━━━━━━━━━━━━━━━━━━━━━━━━━━━━━━━━━━━━━━━━\u001b[0m \u001b[32m318.9/318.9 kB\u001b[0m \u001b[31m24.7 MB/s\u001b[0m eta \u001b[36m0:00:00\u001b[0m\n",
            "\u001b[?25hDownloading jsonpatch-1.33-py2.py3-none-any.whl (12 kB)\n",
            "Downloading marshmallow-3.22.0-py3-none-any.whl (49 kB)\n",
            "\u001b[2K   \u001b[90m━━━━━━━━━━━━━━━━━━━━━━━━━━━━━━━━━━━━━━━━\u001b[0m \u001b[32m49.3/49.3 kB\u001b[0m \u001b[31m3.8 MB/s\u001b[0m eta \u001b[36m0:00:00\u001b[0m\n",
            "\u001b[?25hDownloading protobuf-5.28.0-cp38-abi3-manylinux2014_x86_64.whl (316 kB)\n",
            "\u001b[2K   \u001b[90m━━━━━━━━━━━━━━━━━━━━━━━━━━━━━━━━━━━━━━━━\u001b[0m \u001b[32m316.6/316.6 kB\u001b[0m \u001b[31m23.3 MB/s\u001b[0m eta \u001b[36m0:00:00\u001b[0m\n",
            "\u001b[?25hDownloading typing_inspect-0.9.0-py3-none-any.whl (8.8 kB)\n",
            "Downloading websockets-12.0-cp310-cp310-manylinux_2_5_x86_64.manylinux1_x86_64.manylinux_2_17_x86_64.manylinux2014_x86_64.whl (130 kB)\n",
            "\u001b[2K   \u001b[90m━━━━━━━━━━━━━━━━━━━━━━━━━━━━━━━━━━━━━━━━\u001b[0m \u001b[32m130.2/130.2 kB\u001b[0m \u001b[31m12.4 MB/s\u001b[0m eta \u001b[36m0:00:00\u001b[0m\n",
            "\u001b[?25hDownloading hpack-4.0.0-py3-none-any.whl (32 kB)\n",
            "Downloading hyperframe-6.0.1-py3-none-any.whl (12 kB)\n",
            "Downloading jsonpointer-3.0.0-py2.py3-none-any.whl (7.6 kB)\n",
            "Downloading mypy_extensions-1.0.0-py3-none-any.whl (4.7 kB)\n",
            "Installing collected packages: pydub, websockets, tomlkit, tenacity, semantic-version, ruff, python-multipart, protobuf, portalocker, orjson, mypy-extensions, marshmallow, jsonpointer, jiter, hyperframe, hpack, h11, grpcio, ffmpy, aiofiles, uvicorn, typing-inspect, tiktoken, starlette, jsonpatch, httpcore, h2, grpcio-tools, httpx, fastapi, dataclasses-json, pyproject-toml, openai, langsmith, gradio-client, qdrant_client, langchain-core, gradio, langserve, langchain-text-splitters, langchain-qdrant, langchain_openai, langchain, langchain_community, langchain_experimental\n",
            "  Attempting uninstall: tomlkit\n",
            "    Found existing installation: tomlkit 0.13.2\n",
            "    Uninstalling tomlkit-0.13.2:\n",
            "      Successfully uninstalled tomlkit-0.13.2\n",
            "  Attempting uninstall: tenacity\n",
            "    Found existing installation: tenacity 9.0.0\n",
            "    Uninstalling tenacity-9.0.0:\n",
            "      Successfully uninstalled tenacity-9.0.0\n",
            "  Attempting uninstall: protobuf\n",
            "    Found existing installation: protobuf 3.20.3\n",
            "    Uninstalling protobuf-3.20.3:\n",
            "      Successfully uninstalled protobuf-3.20.3\n",
            "  Attempting uninstall: grpcio\n",
            "    Found existing installation: grpcio 1.64.1\n",
            "    Uninstalling grpcio-1.64.1:\n",
            "      Successfully uninstalled grpcio-1.64.1\n",
            "\u001b[31mERROR: pip's dependency resolver does not currently take into account all the packages that are installed. This behaviour is the source of the following dependency conflicts.\n",
            "cudf-cu12 24.4.1 requires protobuf<5,>=3.20, but you have protobuf 5.28.0 which is incompatible.\n",
            "google-ai-generativelanguage 0.6.6 requires protobuf!=3.20.0,!=3.20.1,!=4.21.0,!=4.21.1,!=4.21.2,!=4.21.3,!=4.21.4,!=4.21.5,<5.0.0dev,>=3.19.5, but you have protobuf 5.28.0 which is incompatible.\n",
            "google-cloud-bigquery-storage 2.25.0 requires protobuf!=3.20.0,!=3.20.1,!=4.21.0,!=4.21.1,!=4.21.2,!=4.21.3,!=4.21.4,!=4.21.5,<5.0.0dev,>=3.19.5, but you have protobuf 5.28.0 which is incompatible.\n",
            "google-cloud-datastore 2.19.0 requires protobuf!=3.20.0,!=3.20.1,!=4.21.0,!=4.21.1,!=4.21.2,!=4.21.3,!=4.21.4,!=4.21.5,<5.0.0dev,>=3.19.5, but you have protobuf 5.28.0 which is incompatible.\n",
            "google-cloud-firestore 2.16.1 requires protobuf!=3.20.0,!=3.20.1,!=4.21.0,!=4.21.1,!=4.21.2,!=4.21.3,!=4.21.4,!=4.21.5,<5.0.0dev,>=3.19.5, but you have protobuf 5.28.0 which is incompatible.\n",
            "tensorboard 2.17.0 requires protobuf!=4.24.0,<5.0.0,>=3.19.6, but you have protobuf 5.28.0 which is incompatible.\n",
            "tensorflow 2.17.0 requires protobuf!=4.21.0,!=4.21.1,!=4.21.2,!=4.21.3,!=4.21.4,!=4.21.5,<5.0.0dev,>=3.20.3, but you have protobuf 5.28.0 which is incompatible.\n",
            "tensorflow-metadata 1.15.0 requires protobuf<4.21,>=3.20.3; python_version < \"3.11\", but you have protobuf 5.28.0 which is incompatible.\u001b[0m\u001b[31m\n",
            "\u001b[0mSuccessfully installed aiofiles-23.2.1 dataclasses-json-0.6.7 fastapi-0.112.2 ffmpy-0.4.0 gradio-4.42.0 gradio-client-1.3.0 grpcio-1.66.1 grpcio-tools-1.66.1 h11-0.14.0 h2-4.1.0 hpack-4.0.0 httpcore-1.0.5 httpx-0.27.2 hyperframe-6.0.1 jiter-0.5.0 jsonpatch-1.33 jsonpointer-3.0.0 langchain-0.2.15 langchain-core-0.2.37 langchain-qdrant-0.1.3 langchain-text-splitters-0.2.2 langchain_community-0.2.15 langchain_experimental-0.0.64 langchain_openai-0.1.23 langserve-0.2.3 langsmith-0.1.108 marshmallow-3.22.0 mypy-extensions-1.0.0 openai-1.43.0 orjson-3.10.7 portalocker-2.10.1 protobuf-5.28.0 pydub-0.25.1 pyproject-toml-0.0.10 python-multipart-0.0.9 qdrant_client-1.11.1 ruff-0.6.3 semantic-version-2.10.0 starlette-0.38.4 tenacity-8.5.0 tiktoken-0.7.0 tomlkit-0.12.0 typing-inspect-0.9.0 uvicorn-0.30.6 websockets-12.0\n"
          ]
        }
      ],
      "source": [
        "!pip install fastapi langchain langchain_community langchain_openai langchain-qdrant qdrant_client langserve langchain_experimental gradio"
      ]
    },
    {
      "cell_type": "code",
      "execution_count": null,
      "id": "30f4baac-4102-45db-8ad4-d053067d231e",
      "metadata": {
        "id": "30f4baac-4102-45db-8ad4-d053067d231e"
      },
      "outputs": [],
      "source": [
        "import os\n",
        "\n",
        "#APIキーの登録\n",
        "os.environ[\"OPENAI_API_KEY\"] = \"SyhAAQtvnKDo5v1go8iXK5thk1rS1rDutRW5ojMDGtiA7meDblkKWH3puqV6lNrGtm420w9Sn61rGxGhRoP_jPQ\""
      ]
    },
    {
      "cell_type": "markdown",
      "id": "3nYLnKWLWau3",
      "metadata": {
        "id": "3nYLnKWLWau3"
      },
      "source": [
        "# 1.ライブラリのインポートと基本設定"
      ]
    },
    {
      "cell_type": "code",
      "execution_count": null,
      "id": "BikCN319Wzv4",
      "metadata": {
        "id": "BikCN319Wzv4"
      },
      "outputs": [],
      "source": [
        "import json\n",
        "from fastapi import FastAPI, APIRouter, Body, Request\n",
        "from fastapi.middleware.cors import CORSMiddleware\n",
        "from fastapi.responses import FileResponse, StreamingResponse\n",
        "from fastapi.staticfiles import StaticFiles\n",
        "from pydantic import BaseModel\n",
        "from langchain_openai import ChatOpenAI\n",
        "from langchain_core.output_parsers import StrOutputParser, JsonOutputParser\n",
        "from langchain_core.prompts import ChatPromptTemplate, PromptTemplate\n",
        "from langchain_core.runnables import RunnablePassthrough\n",
        "from langchain_openai import OpenAIEmbeddings\n",
        "from langchain_qdrant import Qdrant\n",
        "from qdrant_client import QdrantClient\n",
        "from langserve import add_routes\n",
        "from langchain import hub\n",
        "from langchain.agents import AgentExecutor, create_openai_functions_agent\n",
        "from langchain_experimental.tools import PythonREPLTool\n",
        "import gradio as gr\n",
        "import os\n",
        "from typing import AsyncIterable, Dict\n",
        "from langchain.load import dumps, loads\n",
        "\n",
        "# FastAPI setup\n",
        "app = FastAPI()\n",
        "app.add_middleware(\n",
        "    CORSMiddleware,\n",
        "    allow_origins=[\"*\"],\n",
        "    allow_credentials=True,\n",
        "    allow_methods=[\"*\"],\n",
        "    allow_headers=[\"*\"]\n",
        ")"
      ]
    },
    {
      "cell_type": "markdown",
      "id": "-J4Qr5w3XDtm",
      "metadata": {
        "id": "-J4Qr5w3XDtm"
      },
      "source": [
        "# 2.langchainの基本設定"
      ]
    },
    {
      "cell_type": "code",
      "execution_count": null,
      "id": "WgtTGuUjXIcS",
      "metadata": {
        "id": "WgtTGuUjXIcS",
        "colab": {
          "base_uri": "https://localhost:8080/"
        },
        "outputId": "df810f3e-6cae-472e-f6b9-8a8e2b96f11d"
      },
      "outputs": [
        {
          "output_type": "stream",
          "name": "stderr",
          "text": [
            "<ipython-input-4-e5b815363bca>:16: LangChainDeprecationWarning: The class `Qdrant` was deprecated in LangChain 0.1.2 and will be removed in 0.5.0. Use QdrantVectorStore instead.\n",
            "  qdrant = Qdrant(\n"
          ]
        }
      ],
      "source": [
        "# modelの指定。今回はGPT4 miniを採用\n",
        "model = ChatOpenAI(\n",
        "    model=\"gpt-4o-mini\",\n",
        "    temperature=0,\n",
        "    streaming=True,\n",
        "    openai_api_base=\"https://api.openai.iniad.org/api/v1/\")\n",
        "\n",
        "# Embedding modelはOpenAIのものを利用\n",
        "embedding_function = OpenAIEmbeddings(\n",
        "    openai_api_base=\"https://api.openai.iniad.org/api/v1/\"\n",
        ")\n",
        "\n",
        "# ベクトルDBの設定。今回はEmbeddingに時間がかかるのであらかじめ用意したcollectionを利用\n",
        "\n",
        "qdrant_client = QdrantClient(host=\"3.145.124.44\", port=6333)\n",
        "qdrant = Qdrant(\n",
        "    client=qdrant_client,\n",
        "    embeddings=embedding_function,\n",
        "    collection_name=\"aws_documents\"\n",
        ")\n",
        "# retrieverの定義\n",
        "retriever = qdrant.as_retriever(search_type=\"mmr\", k=10, verbose=True) # ベクトル検索機能を設定"
      ]
    },
    {
      "cell_type": "markdown",
      "id": "nQsDdt2jYoV3",
      "metadata": {
        "id": "nQsDdt2jYoV3"
      },
      "source": [
        "# 3.Chainとpromptの設定"
      ]
    },
    {
      "cell_type": "markdown",
      "id": "wcySLiHxY1Gp",
      "metadata": {
        "id": "wcySLiHxY1Gp"
      },
      "source": [
        "## 3.1.AWSのサービス設計を返すChainの作成"
      ]
    },
    {
      "cell_type": "code",
      "execution_count": null,
      "id": "MvrGcjk5Y7Ov",
      "metadata": {
        "colab": {
          "base_uri": "https://localhost:8080/"
        },
        "id": "MvrGcjk5Y7Ov",
        "outputId": "989343a4-8e77-49c1-9e90-9b837ec5d279"
      },
      "outputs": [
        {
          "output_type": "stream",
          "name": "stdout",
          "text": [
            "# ECサイト構築におけるAWSサービス\n",
            "\n",
            "ECサイトを構築する際には、さまざまなAWSサービスを組み合わせて使用することが重要です。以下に、主要なサービスとその役割、相互関係について詳しく説明します。\n",
            "\n",
            "## 1. Amazon EC2 (Elastic Compute Cloud)\n",
            "- **役割**: サーバーを提供し、アプリケーションをホストします。\n",
            "- **使用例**: ウェブサーバーやアプリケーションサーバーとして使用。\n",
            "- **関連サービス**: \n",
            "  - **Amazon RDS**: データベースをEC2インスタンスからアクセス。\n",
            "  - **Amazon S3**: 静的ファイル（画像、CSS、JavaScriptなど）をEC2から配信。\n",
            "\n",
            "## 2. Amazon S3 (Simple Storage Service)\n",
            "- **役割**: オブジェクトストレージサービスで、静的ファイルを保存します。\n",
            "- **使用例**: 商品画像やバックアップデータの保存。\n",
            "- **関連サービス**:\n",
            "  - **Amazon CloudFront**: S3に保存されたコンテンツをCDN経由で配信。\n",
            "  - **Amazon EC2**: EC2からS3にアクセスしてファイルを取得。\n",
            "\n",
            "## 3. Amazon RDS (Relational Database Service)\n",
            "- **役割**: リレーショナルデータベースを管理します。\n",
            "- **使用例**: 商品情報、ユーザー情報、注文履歴などのデータを保存。\n",
            "- **関連サービス**:\n",
            "  - **Amazon EC2**: アプリケーションからRDSに接続してデータを操作。\n",
            "  - **AWS Lambda**: サーバーレスアーキテクチャでRDSにアクセス。\n",
            "\n",
            "## 4. Amazon CloudFront\n",
            "- **役割**: コンテンツ配信ネットワーク (CDN) で、静的および動的コンテンツを高速に配信します。\n",
            "- **使用例**: S3に保存された画像や、EC2でホストされているウェブページを配信。\n",
            "- **関連サービス**:\n",
            "  - **Amazon S3**: S3のコンテンツをキャッシュして配信。\n",
            "  - **Amazon EC2**: EC2のアプリケーションからのレスポンスをキャッシュ。\n",
            "\n",
            "## 5. AWS Lambda\n",
            "- **役割**: サーバーレスコンピューティングサービスで、イベント駆動型の処理を実行します。\n",
            "- **使用例**: ユーザーのアクションに応じたバックエンド処理（例: 注文処理）。\n",
            "- **関連サービス**:\n",
            "  - **Amazon RDS**: データベース操作を行うためにRDSにアクセス。\n",
            "  - **Amazon S3**: S3にアップロードされたファイルに対する処理を実行。\n",
            "\n",
            "## 6. Amazon API Gateway\n",
            "- **役割**: APIを作成、管理、保護するためのサービスです。\n",
            "- **使用例**: フロントエンドとバックエンドの通信を管理。\n",
            "- **関連サービス**:\n",
            "  - **AWS Lambda**: Lambda関数をAPIとして公開。\n",
            "  - **Amazon RDS**: APIを通じてRDSにアクセス。\n",
            "\n",
            "## 7. Amazon Cognito\n",
            "- **役割**: ユーザー認証と管理を行うサービスです。\n",
            "- **使用例**: ユーザーのサインアップ、サインイン、アクセス管理。\n",
            "- **関連サービス**:\n",
            "  - **Amazon API Gateway**: 認証されたユーザーのみがAPIにアクセスできるように設定。\n",
            "  - **AWS Lambda**: ユーザー登録やログイン時のカスタム処理を実行。\n",
            "\n",
            "## 8. Amazon CloudWatch\n",
            "- **役割**: モニタリングとログ管理を行うサービスです。\n",
            "- **使用例**: ECサイトのパフォーマンスやエラーログを監視。\n",
            "- **関連サービス**:\n",
            "  - **Amazon EC2**: EC2インスタンスのメトリクスを収集。\n",
            "  - **AWS Lambda**: Lambda関数の実行状況を監視。\n",
            "\n",
            "## まとめ\n",
            "ECサイトを構築する際には、これらのAWSサービスを組み合わせて使用することで、スケーラブルで高可用性のあるシステムを構築できます。各サービスの役割と相互関係を理解することで、効率的なアーキテクチャを設計することが可能です。\n"
          ]
        }
      ],
      "source": [
        "# ユーザからの入力に応じて、サービス設計を返すプロンプト\n",
        "description_prompt = ChatPromptTemplate.from_template(\"\"\"\n",
        "マークダウン形式で返答してください。\n",
        "{input}を構築する際に使用すべきAWSサービスについて詳しく教えてください。\n",
        "リンクする必要のあるサービス間の関係が理解しやすいように説明してください。\n",
        "\"\"\")\n",
        "# チェーンの定義\n",
        "description_chain = description_prompt | model | StrOutputParser()\n",
        "\n",
        "# チェーンの動作イメージ\n",
        "print(description_chain.invoke({\"input\": \"ECサイト\"}))"
      ]
    },
    {
      "cell_type": "markdown",
      "id": "yrAoz3mxZcoS",
      "metadata": {
        "id": "yrAoz3mxZcoS"
      },
      "source": [
        "## 3.2.サービス設計をJSON形式で返すChainの作成"
      ]
    },
    {
      "cell_type": "code",
      "execution_count": null,
      "id": "ZRfBHjIRZkiz",
      "metadata": {
        "id": "ZRfBHjIRZkiz"
      },
      "outputs": [],
      "source": [
        "# 必ずJson形式で返すように設定\n",
        "json_output_parser = JsonOutputParser()\n",
        "json_template = \"\"\"\n",
        "AWSサービスの依存関係を表すJSON構造を作成してください。サービスは配列としてオブジェクトで表現し、各オブジェクトには名前、説明、依存関係を含めてください。\n",
        "依存関係には依存先の名前、説明、オプションでタイプを含めます。\n",
        "各サービス間の依存関係が理解できるようにしてください。\n",
        "依存関係とサービス名のみを知る必要があります。\n",
        "{format_instructions}\n",
        "{query}\n",
        "\"\"\"\n",
        "json_prompt = PromptTemplate(\n",
        "    template=json_template,\n",
        "    input_variables=[\"query\"],\n",
        "    partial_variables={\"format_instructions\": json_output_parser.get_format_instructions()}\n",
        ")\n",
        "# Chainの定義\n",
        "json_chain = json_prompt | model | json_output_parser\n",
        "# Chainの動作イメージ\n",
        "#print(json_structure_chain.invoke({\"query\": \"ECサイト\"}))"
      ]
    },
    {
      "cell_type": "markdown",
      "id": "aZcFkLeWZqkD",
      "metadata": {
        "id": "aZcFkLeWZqkD"
      },
      "source": [
        "## 3.3 AWSのドキュメントをもとに回答を生成する RAG Chainの作成"
      ]
    },
    {
      "cell_type": "code",
      "execution_count": null,
      "id": "hgqSvuUuZ23z",
      "metadata": {
        "colab": {
          "base_uri": "https://localhost:8080/"
        },
        "id": "hgqSvuUuZ23z",
        "outputId": "c04f85fc-2255-4565-9fa8-6e5c35cbb6a6"
      },
      "outputs": [
        {
          "output_type": "stream",
          "name": "stdout",
          "text": [
            "Amazon EC2を使用する際に考慮すべき主要なセキュリティ対策について、以下に詳細な分析を提供します。\n",
            "\n",
            "1. **アクセス管理**\n",
            "   - ドキュメント名: ec2-ug (1).pdf\n",
            "   - ページ番号: 2674\n",
            "   - 引用: 『Connect to the EC2 Serial Console』\n",
            "\n",
            "   EC2インスタンスへのアクセスを管理することは、セキュリティの基本です。適切なIAMポリシーを設定し、必要な権限のみを付与することで、リスクを軽減できます。\n",
            "\n",
            "2. **ネットワークセキュリティ**\n",
            "   - ドキュメント名: ec2-types.pdf\n",
            "   - ページ番号: 0\n",
            "   - 引用: 『Instance Types』\n",
            "\n",
            "   EC2インスタンスを配置するVPC（Virtual Private Cloud）内でのネットワークセキュリティグループの設定が重要です。不要なポートを閉じ、特定のIPアドレスからのアクセスのみを許可することで、外部からの攻撃を防ぎます。\n",
            "\n",
            "3. **データ暗号化**\n",
            "   - ドキュメント名: ec2-wg.pdf\n",
            "   - ページ番号: 1622\n",
            "   - 引用: 『aws ec2 create-fleet \\\\ Work with EC2 Fleets』\n",
            "\n",
            "   EC2インスタンス上のデータは、保存時および転送時に暗号化することが推奨されます。AWSのKMS（Key Management Service）を使用して、データの暗号化キーを管理することができます。\n",
            "\n",
            "4. **監視とログ管理**\n",
            "   - ドキュメント名: lambda-dg.pdf\n",
            "   - ページ番号: 22\n",
            "   - 引用: 『EC2............................................................................................................................................................1150』\n",
            "\n",
            "   EC2インスタンスの監視とログ管理は、セキュリティインシデントの早期発見に役立ちます。CloudTrailやCloudWatchを使用して、APIコールやシステムのメトリクスを監視し、異常なアクティビティを検出します。\n",
            "\n",
            "5. **定期的なセキュリティ評価**\n",
            "   - ドキュメント名: ec2-ug (1).pdf\n",
            "   - ページ番号: 2674\n",
            "   - 引用: 『Connect to the EC2 Serial Console』\n",
            "\n",
            "   定期的にセキュリティ評価を行い、インスタンスの設定やアクセス権限を見直すことが重要です。これにより、新たな脅威に対する防御を強化できます。\n",
            "\n",
            "これらのセキュリティ対策を実施することで、Amazon EC2を安全に利用することができます。\n"
          ]
        }
      ],
      "source": [
        "aws_rag_template = \"\"\"\n",
        "{context}の情報に基づいて、{aws_service}を使用する際に念頭に置くべき主要なセキュリティ考慮事項の詳細な分析を提供してください。\n",
        "各セキュリティ対策について、ドキュメント名、ページ番号、引用を必ず明記し、以下のフォーマットに従って回答してください：\n",
        "「ドキュメント名: [ドキュメント名] ページ番号: [ページ番号] 引用: 『[引用文]』」。\n",
        "\"\"\"\n",
        "aws_rag_prompt = ChatPromptTemplate.from_template(aws_rag_template)\n",
        "# Chainの定義\n",
        "aws_rag_chain = (\n",
        "    {\"context\": retriever, \"aws_service\": RunnablePassthrough()}\n",
        "    | aws_rag_prompt\n",
        "    | model\n",
        "    | StrOutputParser()\n",
        ")\n",
        "\n",
        "#Chainの動作イメージ\n",
        "print(aws_rag_chain.invoke(\"EC2\"))"
      ]
    },
    {
      "cell_type": "markdown",
      "id": "kWxfqkcJZ7H3",
      "metadata": {
        "id": "kWxfqkcJZ7H3"
      },
      "source": [
        "# 4.Fusion RAGの設定"
      ]
    },
    {
      "cell_type": "code",
      "execution_count": null,
      "id": "CC8RVSY8bDMF",
      "metadata": {
        "colab": {
          "base_uri": "https://localhost:8080/"
        },
        "id": "CC8RVSY8bDMF",
        "outputId": "de2b77e7-de21-4c8f-dbd7-362b53c7cd09"
      },
      "outputs": [
        {
          "output_type": "stream",
          "name": "stdout",
          "text": [
            "['1. EC2のセキュリティベストプラクティス', '2. AWS EC2インスタンスのセキュリティグループ設定方法', '3. EC2のセキュリティリスクとその対策', '4. EC2でのデータ保護と暗号化の方法']\n"
          ]
        },
        {
          "output_type": "stream",
          "name": "stderr",
          "text": [
            "<ipython-input-8-8f2e55fb92d3>:14: LangChainBetaWarning: The function `loads` is in beta. It is actively being worked on, so the API may change.\n",
            "  (loads(doc), score)\n"
          ]
        },
        {
          "output_type": "stream",
          "name": "stdout",
          "text": [
            "Amazon EC2のセキュリティについては、以下のポイントが重要です。\n",
            "\n",
            "1. **セキュリティグループ**:\n",
            "   - EC2インスタンスにはセキュリティグループを設定できます。これにより、インバウンドおよびアウトバウンドのトラフィックを制御します。デフォルトでは、新しいセキュリティグループはすべてのアウトバウンドトラフィックを許可しますが、インバウンドトラフィックを許可するためにはルールを追加する必要があります。\n",
            "\n",
            "2. **最小特権アクセスの実装**:\n",
            "   - アクセス許可を付与する際には、必要な最小限の権限のみを付与することが推奨されます。これにより、セキュリティリスクを低減し、エラーや悪意のある行動による影響を最小限に抑えることができます。\n",
            "\n",
            "3. **データ保護**:\n",
            "   - EC2インスタンスで扱うデータは、暗号化やバックアップを通じて保護する必要があります。特に機密データを扱う場合は、Amazon Macieなどのサービスを利用してデータの検出と保護を行うことが推奨されます。\n",
            "\n",
            "4. **インフラストラクチャセキュリティ**:\n",
            "   - EC2インスタンスのセキュリティは、インフラストラクチャ全体のセキュリティと連携しています。IAM（Identity and Access Management）を使用して、リソースへのアクセスを制御し、ユーザーやグループに適切な権限を付与することが重要です。\n",
            "\n",
            "5. **セキュリティパッチの適用**:\n",
            "   - インスタンスを新たに立ち上げた際には、最新のソフトウェアパッチを適用し、ファイアウォールの設定を見直すことが重要です。これにより、将来的なセキュリティ侵害を防ぐことができます。\n",
            "\n",
            "6. **インスタンスの監視とログ管理**:\n",
            "   - Amazon CloudWatch Logsを使用して、インスタンスのログを監視し、異常なアクティビティを検出することができます。これにより、セキュリティインシデントの早期発見が可能になります。\n",
            "\n",
            "これらのポイントを考慮することで、EC2インスタンスのセキュリティを強化し、リスクを低減することができます。\n"
          ]
        }
      ],
      "source": [
        "generate_queries_template = \"\"\"あなたは1つの入力クエリに基づいて複数の検索クエリを生成する有能なアシスタントです。\\n 以下に関連する複数の検索クエリを生成してください: {question} \\n 出力 (4つのクエリ):\"\"\"\n",
        "generate_queries_prompt = ChatPromptTemplate.from_template(generate_queries_template)\n",
        "\n",
        "def reciprocal_rank_fusion(results: list[list], k=60):\n",
        "    fused_scores = {}\n",
        "    for docs in results:\n",
        "        for rank, doc in enumerate(docs):\n",
        "            doc_str = dumps(doc)\n",
        "            if doc_str not in fused_scores:\n",
        "                fused_scores[doc_str] = 0\n",
        "            fused_scores[doc_str] += 1 / (rank + k)\n",
        "\n",
        "    reranked_results = [\n",
        "        (loads(doc), score)\n",
        "        for doc, score in sorted(fused_scores.items(), key=lambda x: x[1], reverse=True)\n",
        "    ]\n",
        "\n",
        "    return [x[0] for x in reranked_results[:8]]\n",
        "\n",
        "generate_queries_chain = (\n",
        "    {\"question\": RunnablePassthrough()}\n",
        "    | generate_queries_prompt\n",
        "    | model\n",
        "    | StrOutputParser()\n",
        "    | (lambda x: x.split(\"\\n\"))\n",
        ")\n",
        "\n",
        "print(generate_queries_chain.invoke({\"question\": \"EC2のセキュリティについて詳しく教えてください\"}))\n",
        "\n",
        "\n",
        "fusion_rag_template = \"\"\"以下のコンテキストに基づいて質問に答えてください:\n",
        "\n",
        "{context}\n",
        "\n",
        "質問: {question}\n",
        "\"\"\"\n",
        "fusion_rag_prompt = ChatPromptTemplate.from_template(fusion_rag_template)\n",
        "\n",
        "retrieve_chain = (\n",
        "    {\"original_query\": RunnablePassthrough()}\n",
        "    | generate_queries_chain\n",
        "    | retriever.map()\n",
        "    | reciprocal_rank_fusion\n",
        ")\n",
        "\n",
        "# Fusion RAGの定義\n",
        "fusion_rag_chain = (\n",
        "    {\n",
        "        \"context\": retrieve_chain,\n",
        "        \"question\": RunnablePassthrough(),\n",
        "    }\n",
        "    | fusion_rag_prompt\n",
        "    | model\n",
        "    | StrOutputParser()\n",
        ")\n",
        "# 動作イメージ\n",
        "print(fusion_rag_chain.invoke({\"question\": \"EC2のセキュリティについて詳しく教えてください\"}))"
      ]
    },
    {
      "cell_type": "markdown",
      "id": "wpD5ivnEbx4P",
      "metadata": {
        "id": "wpD5ivnEbx4P"
      },
      "source": [
        "# 5.ストリーミング処理とFastAPIルート設定"
      ]
    },
    {
      "cell_type": "code",
      "execution_count": null,
      "id": "pj--PGUqbxNj",
      "metadata": {
        "id": "pj--PGUqbxNj"
      },
      "outputs": [],
      "source": [
        "# Streaming処理\n",
        "async def stream_generator(chain, input_data) -> AsyncIterable[str]:\n",
        "    async for chunk in chain.astream(input_data):\n",
        "        yield chunk\n",
        "\n",
        "# FastAPIのルーティング設定\n",
        "\n",
        "# description_chainを/description/streamにマッピング\n",
        "@app.post(\"/description/stream\")\n",
        "async def stream_description(input: dict):\n",
        "    return StreamingResponse(stream_generator(description_chain, input), media_type=\"text/event-stream\")\n",
        "\n",
        "# json_cahinを/json/streamにマッピング\n",
        "@app.post(\"/json/stream\")\n",
        "async def stream_json(query: dict):\n",
        "    return StreamingResponse(stream_generator(json_chain, query), media_type=\"text/event-stream\")\n",
        "\n",
        "# aws_rag_chainを/rag/streamにマッピング\n",
        "@app.post(\"/rag/stream\")\n",
        "async def stream_rag(aws_services: Dict[str, list]):\n",
        "    async def generate():\n",
        "        for service in aws_services.get(\"services\", []):\n",
        "            service_name = service.get(\"name\", \"\")\n",
        "            yield f\"Service: {service_name}\\n\"\n",
        "            async for chunk in aws_rag_chain.astream(service_name):\n",
        "                yield chunk\n",
        "            yield \"\\n\\n\"\n",
        "\n",
        "    return StreamingResponse(generate(), media_type=\"text/event-stream\")\n",
        "\n",
        "# fusion_rag_chainを/fusion-rag/streamにマッピング\n",
        "@app.post(\"/fusion-rag/stream\")\n",
        "async def stream_fusion_rag_response(question: str):\n",
        "    return StreamingResponse(stream_generator(fusion_rag_chain, question), media_type=\"text/event-stream\")"
      ]
    },
    {
      "cell_type": "markdown",
      "id": "kRGc4qrFcgrN",
      "metadata": {
        "id": "kRGc4qrFcgrN"
      },
      "source": [
        "# 6.Gradioから呼ぶ関数の定義"
      ]
    },
    {
      "cell_type": "code",
      "execution_count": null,
      "id": "77h2jst8csdF",
      "metadata": {
        "id": "77h2jst8csdF"
      },
      "outputs": [],
      "source": [
        "async def stream_generator(chain, input_data) -> AsyncIterable[str]:\n",
        "    async for chunk in chain.astream(input_data):\n",
        "        yield chunk\n",
        "\n",
        "# Gradio用の非同期関数\n",
        "async def get_description(input_text: str) -> str:\n",
        "    result = \"\"\n",
        "    async for chunk in stream_generator(description_chain, {\"input\": input_text}):\n",
        "        result += chunk\n",
        "        yield result\n",
        "\n",
        "async def get_json_structure(input_text: str) -> str:\n",
        "    result = \"\"\n",
        "    async for chunk in stream_generator(json_chain, {\"query\": input_text}):\n",
        "        result += chunk\n",
        "    return json.loads(result)\n",
        "\n",
        "async def get_rag_response(aws_services: str) -> str:\n",
        "    result = \"\"\n",
        "    services = json.loads(aws_services).get(\"services\", [])\n",
        "    for service in services:\n",
        "        service_name = service.get(\"name\", \"\")\n",
        "        result += f\"Service: {service_name}\\n\"\n",
        "        async for chunk in stream_generator(aws_rag_chain, service_name):\n",
        "            result += chunk\n",
        "            yield result\n",
        "        result += \"\\n\\n\"\n",
        "        yield result\n",
        "\n",
        "async def get_fusion_rag_response(question: str) -> str:\n",
        "    result = \"\"\n",
        "    async for chunk in stream_generator(fusion_rag_chain, question):\n",
        "        result += chunk\n",
        "        yield result"
      ]
    },
    {
      "cell_type": "markdown",
      "id": "4Nwn_i--c7Cw",
      "metadata": {
        "id": "4Nwn_i--c7Cw"
      },
      "source": [
        "# 7.Gradioの画面設定"
      ]
    },
    {
      "cell_type": "code",
      "execution_count": null,
      "id": "z0QGiOw8dAmE",
      "metadata": {
        "id": "z0QGiOw8dAmE"
      },
      "outputs": [],
      "source": [
        "demo = gr.Blocks()\n",
        "\n",
        "with demo:\n",
        "    gr.Markdown(\"# CloudSecNavigator\")\n",
        "\n",
        "    with gr.Tab(\"説明\"):\n",
        "        input_text = gr.Textbox(label=\"作成したいサービスを入力してください\")\n",
        "        output_text = gr.Markdown(label=\"説明\")\n",
        "        description_button = gr.Button(\"説明を取得\")\n",
        "        gr.Examples(\n",
        "            examples=[\"ECサイト\", \"サーバーレスアーキテクチャ\", \"コンテナ化されたマイクロサービス\"],\n",
        "            inputs=input_text\n",
        "        )\n",
        "\n",
        "    with gr.Tab(\"JSON構造\"):\n",
        "        json_input = gr.Textbox(label=\"作成したいサービスを入力してください\")\n",
        "        json_output = gr.JSON(label=\"JSON出力\")\n",
        "        json_button = gr.Button(\"JSONを生成\")\n",
        "        gr.Examples(\n",
        "            examples=[\"ECサイト\", \"サーバーレスアーキテクチャ\", \"コンテナ化されたマイクロサービス\"],\n",
        "            inputs=json_input\n",
        "        )\n",
        "\n",
        "    with gr.Tab(\"RAG応答\"):\n",
        "        rag_input = gr.Textbox(label=\"先ほど作成したJSONを入力してください（'services'配列を含む）\")\n",
        "        rag_output = gr.Markdown(label=\"セキュリティの考慮事項\")\n",
        "        rag_button = gr.Button(\"セキュリティ分析を取得\")\n",
        "        gr.Examples(\n",
        "            examples=[\n",
        "                '{\"services\": [{\"name\": \"EC2\"}, {\"name\": \"S3\"}, {\"name\": \"RDS\"}]}',\n",
        "                '{\"services\": [{\"name\": \"Lambda\"}, {\"name\": \"API Gateway\"}, {\"name\": \"DynamoDB\"}]}'\n",
        "            ],\n",
        "            inputs=rag_input\n",
        "        )\n",
        "\n",
        "    with gr.Tab(\"Fusion RAG\"):\n",
        "        fusion_rag_input = gr.Textbox(label=\"質問を入力してください\")\n",
        "        fusion_rag_output = gr.Markdown(label=\"Fusion RAG応答\")\n",
        "        fusion_rag_button = gr.Button(\"Fusion RAG応答を取得\")\n",
        "        gr.Examples(\n",
        "            examples=[\n",
        "                \"AWSでのマルチAZ配置の利点は何ですか？\",\n",
        "                \"ECSとEKSの違いを説明してください\",\n",
        "                \"AWSでのデータ暗号化のベストプラクティスは何ですか？\"\n",
        "            ],\n",
        "            inputs=fusion_rag_input\n",
        "        )\n",
        "\n",
        "    description_button.click(get_description, inputs=input_text, outputs=output_text)\n",
        "    json_button.click(get_json_structure, inputs=json_input, outputs=json_output)\n",
        "    rag_button.click(get_rag_response, inputs=rag_input, outputs=rag_output)\n",
        "    fusion_rag_button.click(get_fusion_rag_response, inputs=fusion_rag_input, outputs=fusion_rag_output)\n"
      ]
    },
    {
      "cell_type": "markdown",
      "id": "aWBvJ9cNdCOH",
      "metadata": {
        "id": "aWBvJ9cNdCOH"
      },
      "source": [
        "# 8.アプリケーションの起動"
      ]
    },
    {
      "cell_type": "code",
      "execution_count": null,
      "id": "bFJ8_2jUdFf_",
      "metadata": {
        "colab": {
          "base_uri": "https://localhost:8080/",
          "height": 651
        },
        "id": "bFJ8_2jUdFf_",
        "outputId": "c7676cd0-a0c0-47f2-ebed-d89b649eece4"
      },
      "outputs": [
        {
          "output_type": "stream",
          "name": "stdout",
          "text": [
            "Setting queue=True in a Colab notebook requires sharing enabled. Setting `share=True` (you can turn this off by setting `share=False` in `launch()` explicitly).\n",
            "\n",
            "Colab notebook detected. To show errors in colab notebook, set debug=True in launch()\n",
            "Running on public URL: https://59e6bf355af7d3a7dc.gradio.live\n",
            "\n",
            "This share link expires in 72 hours. For free permanent hosting and GPU upgrades, run `gradio deploy` from Terminal to deploy to Spaces (https://huggingface.co/spaces)\n"
          ]
        },
        {
          "output_type": "display_data",
          "data": {
            "text/plain": [
              "<IPython.core.display.HTML object>"
            ],
            "text/html": [
              "<div><iframe src=\"https://59e6bf355af7d3a7dc.gradio.live\" width=\"100%\" height=\"500\" allow=\"autoplay; camera; microphone; clipboard-read; clipboard-write;\" frameborder=\"0\" allowfullscreen></iframe></div>"
            ]
          },
          "metadata": {}
        }
      ],
      "source": [
        "if __name__ == \"__main__\":\n",
        "    demo.launch()"
      ]
    }
  ],
  "metadata": {
    "colab": {
      "provenance": [],
      "include_colab_link": true
    },
    "kernelspec": {
      "display_name": "Python 3 (ipykernel)",
      "language": "python",
      "name": "python3"
    },
    "language_info": {
      "codemirror_mode": {
        "name": "ipython",
        "version": 3
      },
      "file_extension": ".py",
      "mimetype": "text/x-python",
      "name": "python",
      "nbconvert_exporter": "python",
      "pygments_lexer": "ipython3",
      "version": "3.11.5"
    }
  },
  "nbformat": 4,
  "nbformat_minor": 5
}